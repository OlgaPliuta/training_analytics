{
 "cells": [
  {
   "cell_type": "code",
   "execution_count": 3,
   "metadata": {},
   "outputs": [
    {
     "name": "stdout",
     "output_type": "stream",
     "text": [
      "Defaulting to user installation because normal site-packages is not writeable\n",
      "Collecting bcbio-gff\n",
      "  Downloading bcbio-gff-0.6.6.tar.gz (19 kB)\n",
      "Requirement already satisfied: six in /opt/tljh/user/lib/python3.7/site-packages (from bcbio-gff) (1.12.0)\n",
      "Building wheels for collected packages: bcbio-gff\n",
      "  Building wheel for bcbio-gff (setup.py) ... \u001b[?25ldone\n",
      "\u001b[?25h  Created wheel for bcbio-gff: filename=bcbio_gff-0.6.6-py3-none-any.whl size=15458 sha256=b3d3a893a5a22b916204761c84ed0b91bcacacace0be6805e9b381bc018869d3\n",
      "  Stored in directory: /home/jupyter-o.pljuta-15/.cache/pip/wheels/6a/0c/09/b30112b4ce4394f83d58e962eeb54cedfe54bb776a8051a514\n",
      "Successfully built bcbio-gff\n",
      "Installing collected packages: bcbio-gff\n",
      "Successfully installed bcbio-gff-0.6.6\n",
      "Note: you may need to restart the kernel to use updated packages.\n"
     ]
    }
   ],
   "source": [
    "pip install bcbio-gff"
   ]
  },
  {
   "cell_type": "code",
   "execution_count": 6,
   "metadata": {},
   "outputs": [
    {
     "name": "stdout",
     "output_type": "stream",
     "text": [
      "Defaulting to user installation because normal site-packages is not writeable\n",
      "Collecting gffpandas\n",
      "  Downloading gffpandas-1.2.0.tar.gz (178 kB)\n",
      "\u001b[K     |████████████████████████████████| 178 kB 8.8 MB/s eta 0:00:01\n",
      "\u001b[?25hBuilding wheels for collected packages: gffpandas\n",
      "  Building wheel for gffpandas (setup.py) ... \u001b[?25ldone\n",
      "\u001b[?25h  Created wheel for gffpandas: filename=gffpandas-1.2.0-py2.py3-none-any.whl size=6233 sha256=633bce8603f126f7d22af6f8eb5d3e15bff911198bcd1416ca10965b54755707\n",
      "  Stored in directory: /home/jupyter-o.pljuta-15/.cache/pip/wheels/a9/d0/2a/cb5ebf14451176d87e738547d58cb2ec39ebc46b19649133cc\n",
      "Successfully built gffpandas\n",
      "Installing collected packages: gffpandas\n",
      "Successfully installed gffpandas-1.2.0\n",
      "Note: you may need to restart the kernel to use updated packages.\n"
     ]
    }
   ],
   "source": [
    "pip install gffpandas"
   ]
  },
  {
   "cell_type": "code",
   "execution_count": 19,
   "metadata": {},
   "outputs": [],
   "source": [
    "import pandas as pd\n",
    "import re\n",
    "#from BCBio import GFF\n",
    "#import gffpandas.gffpandas as gffpd"
   ]
  },
  {
   "cell_type": "code",
   "execution_count": 12,
   "metadata": {},
   "outputs": [
    {
     "data": {
      "text/plain": [
       "'seq_id\\tsource\\ttype\\tstart\\tend\\tscore\\tstrand\\tphase\\tattributes\\nchr17\\tRefSeq\\texon\\t6811330\\t6811453\\t.\\t+\\t.\\tParent=XM_001475631.1\\nchr17\\tRefSeq\\tCDS\\t6808204\\t6808245\\t.\\t+\\t0\\tName=CDS:NC_000083.5:LOC100040603;Parent=XM_001475631.1,\\nchr17\\tRefSeq\\tCDS\\t6811792\\t6811869\\t.\\t+\\t2\\tName=CDS:NC_000083.5:LOC100040603;Parent=XM_001475631.1,\\nchr17\\tRefSeq\\texon\\t6806513\\t6806553\\t.\\t+\\t.\\tParent=XM_001475631.1\\nchr17\\tRefSeq\\tfive_prime_UTR\\t6806513\\t6806526\\t.\\t+\\t.\\tParent=XM_001475631.1\\nchr17\\tRefSeq\\tfive_prime_UTR\\t6797760\\t6797769\\t.\\t+\\t.\\tParent=XM_001475631.1\\nchr17\\tRefSeq\\tCDS\\t6811330\\t6811453\\t.\\t+\\t0\\tName=CDS:NC_000083.5:LOC100040603;Parent=XM_001475631.1,\\nchr17\\tRefSeq\\texon\\t6808204\\t6808245\\t.\\t+\\t.\\tParent=XM_001475631.1\\nchr17\\tRefSeq\\tmRNA\\t6797760\\t6818159\\t.\\t+\\t.\\tID=XM_001475631.1;Parent=NC_000083.5:LOC100040603\\nchr17\\tRefSeq\\tCDS\\t6808204\\t6808245\\t.\\t+\\t0\\tName=CDS:NC_000083.5:LOC100040603;Parent=XM_001475631.1,\\nchr17\\tRefSeq\\tmRNA\\t6797760\\t6818159\\t.\\t+\\t.\\tID=XM_001475631.1;Parent=NC_000083.5:LOC100040603\\nchr17\\tRefSeq\\tCDS\\t6806527\\t6806553\\t.\\t+\\t0\\tName=CDS:NC_000083.5:LOC100040603;Parent=XM_001475631.1,\\nchr17\\tRefSeq\\tCDS\\t6812219\\t6812289\\t.\\t+\\t2\\tName=CDS:NC_000083.5:LOC100040603;Parent=XM_001475631.1,\\nchr17\\tRefSeq\\tCDS\\t6811792\\t6811869\\t.\\t+\\t2\\tName=CDS:NC_000083.5:LOC100040603;Parent=XM_001475631.1,\\nchr17\\tRefSeq\\tCDS\\t6806527\\t6806553\\t.\\t+\\t0\\tName=CDS:NC_000083.5:LOC100040603;Parent=XM_001475631.1,\\nchr17\\tRefSeq\\tmRNA\\t6797760\\t6818159\\t.\\t+\\t.\\tID=XM_001475631.1;Parent=NC_000083.5:LOC100040603\\nchr17\\tRefSeq\\tprotein\\t6806527\\t6812289\\t.\\t+\\t.\\tID=;Parent=XM_001475631.1\\nchr17\\tRefSeq\\tCDS\\t6812219\\t6812289\\t.\\t+\\t2\\tName=CDS:NC_000083.5:LOC100040603;Parent=XM_001475631.1,\\nchr17\\tRefSeq\\texon\\t6808204\\t6808245\\t.\\t+\\t.\\tParent=XM_001475631.1\\nchr17\\tRefSeq\\texon\\t6812219\\t6818159\\t.\\t+\\t.\\tParent=XM_001475631.1\\nchr17\\tRefSeq\\texon\\t6797760\\t6797769\\t.\\t+\\t.\\tParent=XM_001475631.1\\nchr17\\tRefSeq\\texon\\t6808204\\t6808245\\t.\\t+\\t.\\tParent=XM_001475631.1\\nchr17\\tRefSeq\\texon\\t6808204\\t6808245\\t.\\t+\\t.\\tParent=XM_001475631.1\\nchr17\\tRefSeq\\tmRNA\\t6797760\\t6818159\\t.\\t+\\t.\\tID=XM_001475631.1;Parent=NC_000083.5:LOC100040603\\nchr17\\tRefSeq\\texon\\t6797760\\t6797769\\t.\\t+\\t.\\tParent=XM_001475631.1\\nchr17\\tRefSeq\\tfive_prime_UTR\\t6806513\\t6806526\\t.\\t+\\t.\\tParent=XM_001475631.1\\nchr17\\tRefSeq\\tCDS\\t6812219\\t6812289\\t.\\t+\\t2\\tName=CDS:NC_000083.5:LOC100040603;Parent=XM_001475631.1,\\nchr17\\tRefSeq\\texon\\t6808204\\t6808245\\t.\\t+\\t.\\tParent=XM_001475631.1\\nchr17\\tRefSeq\\tCDS\\t6811792\\t6811869\\t.\\t+\\t2\\tName=CDS:NC_000083.5:LOC100040603;Parent=XM_001475631.1,\\nchr17\\tRefSeq\\tthree_prime_UTR\\t6812290\\t6818159\\t.\\t+\\t.\\tParent=XM_001475631.1\\nchr17\\tRefSeq\\texon\\t6806513\\t6806553\\t.\\t+\\t.\\tParent=XM_001475631.1\\nchr17\\tRefSeq\\tthree_prime_UTR\\t6812290\\t6818159\\t.\\t+\\t.\\tParent=XM_001475631.1\\nchr17\\tRefSeq\\tCDS\\t6806527\\t6806553\\t.\\t+\\t0\\tName=CDS:NC_000083.5:LOC100040603;Parent=XM_001475631.1,\\nchr17\\tRefSeq\\texon\\t6811330\\t6811453\\t.\\t+\\t.\\tParent=XM_001475631.1\\nchr17\\tRefSeq\\texon\\t6811330\\t6811453\\t.\\t+\\t.\\tParent=XM_001475631.1\\nchr17\\tRefSeq\\tmRNA\\t6797760\\t6818159\\t.\\t+\\t.\\tID=XM_001475631.1;Parent=NC_000083.5:LOC100040603\\nchr17\\tRefSeq\\texon\\t6806513\\t6806553\\t.\\t+\\t.\\tParent=XM_001475631.1\\nchr17\\tRefSeq\\tCDS\\t6806527\\t6806553\\t.\\t+\\t0\\tName=CDS:NC_000083.5:LOC100040603;Parent=XM_001475631.1,\\nchr17\\tRefSeq\\tCDS\\t6806527\\t6806553\\t.\\t+\\t0\\tName=CDS:NC_000083.5:LOC100040603;Parent=XM_001475631.1,\\nchr17\\tRefSeq\\texon\\t6811330\\t6811453\\t.\\t+\\t.\\tParent=XM_001475631.1\\nchr17\\tRefSeq\\tCDS\\t6806527\\t6806553\\t.\\t+\\t0\\tName=CDS:NC_000083.5:LOC100040603;Parent=XM_001475631.1,\\nchr17\\tRefSeq\\texon\\t6811330\\t6811453\\t.\\t+\\t.\\tParent=XM_001475631.1\\nchr17\\tRefSeq\\tfive_prime_UTR\\t6806513\\t6806526\\t.\\t+\\t.\\tParent=XM_001475631.1\\nchr17\\tRefSeq\\tCDS\\t6811330\\t6811453\\t.\\t+\\t0\\tName=CDS:NC_000083.5:LOC100040603;Parent=XM_001475631.1,\\nchr17\\tRefSeq\\tCDS\\t6808204\\t6808245\\t.\\t+\\t0\\tName=CDS:NC_000083.5:LOC100040603;Parent=XM_001475631.1,\\nchr17\\tRefSeq\\tCDS\\t6812219\\t6812289\\t.\\t+\\t2\\tName=CDS:NC_000083.5:LOC100040603;Parent=XM_001475631.1,\\nchr17\\tRefSeq\\texon\\t6808204\\t6808245\\t.\\t+\\t.\\tParent=XM_001475631.1\\nchr17\\tRefSeq\\tthree_prime_UTR\\t6812290\\t6818159\\t.\\t+\\t.\\tParent=XM_001475631.1\\nchr17\\tRefSeq\\tfive_prime_UTR\\t6797760\\t6797769\\t.\\t+\\t.\\tParent=XM_001475631.1\\nchr17\\tRefSeq\\tCDS\\t6811792\\t6811869\\t.\\t+\\t2\\tName=CDS:NC_000083.5:LOC100040603;Parent=XM_001475631.1,\\nchr17\\tRefSeq\\tCDS\\t6811330\\t6811453\\t.\\t+\\t0\\tName=CDS:NC_000083.5:LOC100040603;Parent=XM_001475631.1,\\nchr17\\tRefSeq\\tmRNA\\t6797760\\t6818159\\t.\\t+\\t.\\tID=XM_001475631.1;Parent=NC_000083.5:LOC100040603\\nchr17\\tRefSeq\\tprotein\\t6806527\\t6812289\\t.\\t+\\t.\\tID=;Parent=XM_001475631.1\\nchr17\\tRefSeq\\texon\\t6811330\\t6811453\\t.\\t+\\t.\\tParent=XM_001475631.1\\nchr17\\tRefSeq\\texon\\t6797760\\t6797769\\t.\\t+\\t.\\tParent=XM_001475631.1\\nchr17\\tRefSeq\\tCDS\\t6812219\\t6812289\\t.\\t+\\t2\\tName=CDS:NC_000083.5:LOC100040603;Parent=XM_001475631.1,\\nchr17\\tRefSeq\\tthree_prime_UTR\\t6812290\\t6818159\\t.\\t+\\t.\\tParent=XM_001475631.1\\nchr17\\tRefSeq\\texon\\t6811330\\t6811453\\t.\\t+\\t.\\tParent=XM_001475631.1\\nchr17\\tRefSeq\\tfive_prime_UTR\\t6806513\\t6806526\\t.\\t+\\t.\\tParent=XM_001475631.1\\nchr17\\tRefSeq\\texon\\t6811792\\t6811869\\t.\\t+\\t.\\tParent=XM_001475631.1\\nchr17\\tRefSeq\\texon\\t6797760\\t6797769\\t.\\t+\\t.\\tParent=XM_001475631.1\\nchr17\\tRefSeq\\texon\\t6812219\\t6818159\\t.\\t+\\t.\\tParent=XM_001475631.1\\nchr17\\tRefSeq\\texon\\t6811792\\t6811869\\t.\\t+\\t.\\tParent=XM_001475631.1\\nchr17\\tRefSeq\\texon\\t6806513\\t6806553\\t.\\t+\\t.\\tParent=XM_001475631.1\\nchr17\\tRefSeq\\texon\\t6811792\\t6811869\\t.\\t+\\t.\\tParent=XM_001475631.1\\nchr17\\tRefSeq\\texon\\t6812219\\t6818159\\t.\\t+\\t.\\tParent=XM_001475631.1\\nchr17\\tRefSeq\\texon\\t6806513\\t6806553\\t.\\t+\\t.\\tParent=XM_001475631.1\\nchr17\\tRefSeq\\tCDS\\t6811792\\t6811869\\t.\\t+\\t2\\tName=CDS:NC_000083.5:LOC100040603;Parent=XM_001475631.1,\\nchr17\\tRefSeq\\texon\\t6797760\\t6797769\\t.\\t+\\t.\\tParent=XM_001475631.1\\nchr17\\tRefSeq\\tCDS\\t6811792\\t6811869\\t.\\t+\\t2\\tName=CDS:NC_000083.5:LOC100040603;Parent=XM_001475631.1,\\nchr17\\tRefSeq\\texon\\t6797760\\t6797769\\t.\\t+\\t.\\tParent=XM_001475631.1\\nchr17\\tRefSeq\\tCDS\\t6808204\\t6808245\\t.\\t+\\t0\\tName=CDS:NC_000083.5:LOC100040603;Parent=XM_001475631.1,\\nchr17\\tRefSeq\\texon\\t6811330\\t6811453\\t.\\t+\\t.\\tParent=XM_001475631.1\\nchr17\\tRefSeq\\tmRNA\\t6797760\\t6818159\\t.\\t+\\t.\\tID=XM_001475631.1;Parent=NC_000083.5:LOC100040603\\nchr17\\tRefSeq\\tthree_prime_UTR\\t6812290\\t6818159\\t.\\t+\\t.\\tParent=XM_001475631.1\\nchr17\\tRefSeq\\tCDS\\t6808204\\t6808245\\t.\\t+\\t0\\tName=CDS:NC_000083.5:LOC100040603;Parent=XM_001475631.1,\\nchr17\\tRefSeq\\texon\\t6806513\\t6806553\\t.\\t+\\t.\\tParent=XM_001475631.1\\nchr17\\tRefSeq\\texon\\t6808204\\t6808245\\t.\\t+\\t.\\tParent=XM_001475631.1\\nchr17\\tRefSeq\\texon\\t6806513\\t6806553\\t.\\t+\\t.\\tParent=XM_001475631.1\\nchr17\\tRefSeq\\tCDS\\t6811792\\t6811869\\t.\\t+\\t2\\tName=CDS:NC_000083.5:LOC100040603;Parent=XM_001475631.1,\\nchr17\\tRefSeq\\tmRNA\\t6797760\\t6818159\\t.\\t+\\t.\\tID=XM_001475631.1;Parent=NC_000083.5:LOC100040603\\nchr17\\tRefSeq\\tCDS\\t6811330\\t6811453\\t.\\t+\\t0\\tName=CDS:NC_000083.5:LOC100040603;Parent=XM_001475631.1,\\nchr17\\tRefSeq\\tCDS\\t6806527\\t6806553\\t.\\t+\\t0\\tName=CDS:NC_000083.5:LOC100040603;Parent=XM_001475631.1,\\nchr17\\tRefSeq\\tCDS\\t6806527\\t6806553\\t.\\t+\\t0\\tName=CDS:NC_000083.5:LOC100040603;Parent=XM_001475631.1,\\nchr17\\tRefSeq\\tCDS\\t6808204\\t6808245\\t.\\t+\\t0\\tName=CDS:NC_000083.5:LOC100040603;Parent=XM_001475631.1,\\nchr17\\tRefSeq\\texon\\t6797760\\t6797769\\t.\\t+\\t.\\tParent=XM_001475631.1\\nchr17\\tRefSeq\\texon\\t6811792\\t6811869\\t.\\t+\\t.\\tParent=XM_001475631.1\\nchr17\\tRefSeq\\texon\\t6797760\\t6797769\\t.\\t+\\t.\\tParent=XM_001475631.1\\nchr17\\tRefSeq\\texon\\t6806513\\t6806553\\t.\\t+\\t.\\tParent=XM_001475631.1\\nchr17\\tRefSeq\\tCDS\\t6812219\\t6812289\\t.\\t+\\t2\\tName=CDS:NC_000083.5:LOC100040603;Parent=XM_001475631.1,\\nchr17\\tRefSeq\\texon\\t6797760\\t6797769\\t.\\t+\\t.\\tParent=XM_001475631.1\\nchr17\\tRefSeq\\texon\\t6811792\\t6811869\\t.\\t+\\t.\\tParent=XM_001475631.1\\nchr17\\tRefSeq\\tCDS\\t6811330\\t6811453\\t.\\t+\\t0\\tName=CDS:NC_000083.5:LOC100040603;Parent=XM_001475631.1,\\nchr17\\tRefSeq\\texon\\t6811792\\t6811869\\t.\\t+\\t.\\tParent=XM_001475631.1\\nchr17\\tRefSeq\\tCDS\\t6806527\\t6806553\\t.\\t+\\t0\\tName=CDS:NC_000083.5:LOC100040603;Parent=XM_001475631.1,\\nchr17\\tRefSeq\\tCDS\\t6812219\\t6812289\\t.\\t+\\t2\\tName=CDS:NC_000083.5:LOC100040603;Parent=XM_001475631.1,\\nchr17\\tRefSeq\\tfive_prime_UTR\\t6806513\\t6806526\\t.\\t+\\t.\\tParent=XM_001475631.1\\nchr17\\tRefSeq\\tfive_prime_UTR\\t6797760\\t6797769\\t.\\t+\\t.\\tParent=XM_001475631.1\\nchr17\\tRefSeq\\tfive_prime_UTR\\t6797760\\t6797769\\t.\\t+\\t.\\tParent=XM_001475631.1\\nchr17\\tRefSeq\\texon\\t6811792\\t6811869\\t.\\t+\\t.\\tParent=XM_001475631.1\\nchr17\\tRefSeq\\tCDS\\t6808204\\t6808245\\t.\\t+\\t0\\tName=CDS:NC_000083.5:LOC100040603;Parent=XM_001475631.1,\\nchr17\\tRefSeq\\tmRNA\\t6797760\\t6818159\\t.\\t+\\t.\\tID=XM_001475631.1;Parent=NC_000083.5:LOC100040603\\nchr17\\tRefSeq\\tmRNA\\t6797760\\t6818159\\t.\\t+\\t.\\tID=XM_001475631.1;Parent=NC_000083.5:LOC100040603\\nchr17\\tRefSeq\\tthree_prime_UTR\\t6812290\\t6818159\\t.\\t+\\t.\\tParent=XM_001475631.1\\nchr17\\tRefSeq\\texon\\t6811792\\t6811869\\t.\\t+\\t.\\tParent=XM_001475631.1\\nchr17\\tRefSeq\\tfive_prime_UTR\\t6797760\\t6797769\\t.\\t+\\t.\\tParent=XM_001475631.1\\nchr17\\tRefSeq\\texon\\t6806513\\t6806553\\t.\\t+\\t.\\tParent=XM_001475631.1\\nchr17\\tRefSeq\\tCDS\\t6811792\\t6811869\\t.\\t+\\t2\\tName=CDS:NC_000083.5:LOC100040603;Parent=XM_001475631.1,\\nchr17\\tRefSeq\\tCDS\\t6806527\\t6806553\\t.\\t+\\t0\\tName=CDS:NC_000083.5:LOC100040603;Parent=XM_001475631.1,\\nchr17\\tRefSeq\\tCDS\\t6808204\\t6808245\\t.\\t+\\t0\\tName=CDS:NC_000083.5:LOC100040603;Parent=XM_001475631.1,\\nchr17\\tRefSeq\\tprotein\\t6806527\\t6812289\\t.\\t+\\t.\\tID=;Parent=XM_001475631.1\\nchr17\\tRefSeq\\tCDS\\t6806527\\t6806553\\t.\\t+\\t0\\tName=CDS:NC_000083.5:LOC100040603;Parent=XM_001475631.1,\\nchr17\\tRefSeq\\tCDS\\t6806527\\t6806553\\t.\\t+\\t0\\tName=CDS:NC_000083.5:LOC100040603;Parent=XM_001475631.1,\\nchr17\\tRefSeq\\tfive_prime_UTR\\t6806513\\t6806526\\t.\\t+\\t.\\tParent=XM_001475631.1\\nchr17\\tRefSeq\\texon\\t6806513\\t6806553\\t.\\t+\\t.\\tParent=XM_001475631.1\\nchr17\\tRefSeq\\tCDS\\t6808204\\t6808245\\t.\\t+\\t0\\tName=CDS:NC_000083.5:LOC100040603;Parent=XM_001475631.1,\\nchr17\\tRefSeq\\tCDS\\t6806527\\t6806553\\t.\\t+\\t0\\tName=CDS:NC_000083.5:LOC100040603;Parent=XM_001475631.1,\\nchr17\\tRefSeq\\tCDS\\t6812219\\t6812289\\t.\\t+\\t2\\tName=CDS:NC_000083.5:LOC100040603;Parent=XM_001475631.1,\\nchr17\\tRefSeq\\texon\\t6808204\\t6808245\\t.\\t+\\t.\\tParent=XM_001475631.1\\nchr17\\tRefSeq\\tCDS\\t6806527\\t6806553\\t.\\t+\\t0\\tName=CDS:NC_000083.5:LOC100040603;Parent=XM_001475631.1,\\nchr17\\tRefSeq\\tCDS\\t6811792\\t6811869\\t.\\t+\\t2\\tName=CDS:NC_000083.5:LOC100040603;Parent=XM_001475631.1,\\nchr17\\tRefSeq\\tprotein\\t6806527\\t6812289\\t.\\t+\\t.\\tID=;Parent=XM_001475631.1\\nchr17\\tRefSeq\\tfive_prime_UTR\\t6797760\\t6797769\\t.\\t+\\t.\\tParent=XM_001475631.1\\nchr17\\tRefSeq\\tmRNA\\t6797760\\t6818159\\t.\\t+\\t.\\tID=XM_001475631.1;Parent=NC_000083.5:LOC100040603\\nchr17\\tRefSeq\\tCDS\\t6812219\\t6812289\\t.\\t+\\t2\\tName=CDS:NC_000083.5:LOC100040603;Parent=XM_001475631.1,\\nchr17\\tRefSeq\\tCDS\\t6811330\\t6811453\\t.\\t+\\t0\\tName=CDS:NC_000083.5:LOC100040603;Parent=XM_001475631.1,\\nchr17\\tRefSeq\\tCDS\\t6811330\\t6811453\\t.\\t+\\t0\\tName=CDS:NC_000083.5:LOC100040603;Parent=XM_001475631.1,\\nchr17\\tRefSeq\\tthree_prime_UTR\\t6812290\\t6818159\\t.\\t+\\t.\\tParent=XM_001475631.1\\nchr17\\tRefSeq\\tprotein\\t6806527\\t6812289\\t.\\t+\\t.\\tID=;Parent=XM_001475631.1\\nchr17\\tRefSeq\\texon\\t6811330\\t6811453\\t.\\t+\\t.\\tParent=XM_001475631.1\\nchr17\\tRefSeq\\texon\\t6808204\\t6808245\\t.\\t+\\t.\\tParent=XM_001475631.1\\nchr17\\tRefSeq\\tfive_prime_UTR\\t6797760\\t6797769\\t.\\t+\\t.\\tParent=XM_001475631.1\\nchr17\\tRefSeq\\tmRNA\\t6797760\\t6818159\\t.\\t+\\t.\\tID=XM_001475631.1;Parent=NC_000083.5:LOC100040603\\nchr17\\tRefSeq\\tCDS\\t6811792\\t6811869\\t.\\t+\\t2\\tName=CDS:NC_000083.5:LOC100040603;Parent=XM_001475631.1,\\nchr17\\tRefSeq\\tCDS\\t6812219\\t6812289\\t.\\t+\\t2\\tName=CDS:NC_000083.5:LOC100040603;Parent=XM_001475631.1,\\nchr17\\tRefSeq\\tCDS\\t6811792\\t6811869\\t.\\t+\\t2\\tName=CDS:NC_000083.5:LOC100040603;Parent=XM_001475631.1,\\nchr17\\tRefSeq\\texon\\t6812219\\t6818159\\t.\\t+\\t.\\tParent=XM_001475631.1\\nchr17\\tRefSeq\\texon\\t6811330\\t6811453\\t.\\t+\\t.\\tParent=XM_001475631.1\\nchr17\\tRefSeq\\texon\\t6811792\\t6811869\\t.\\t+\\t.\\tParent=XM_001475631.1\\nchr17\\tRefSeq\\tfive_prime_UTR\\t6806513\\t6806526\\t.\\t+\\t.\\tParent=XM_001475631.1\\nchr17\\tRefSeq\\texon\\t6797760\\t6797769\\t.\\t+\\t.\\tParent=XM_001475631.1\\nchr17\\tRefSeq\\tfive_prime_UTR\\t6806513\\t6806526\\t.\\t+\\t.\\tParent=XM_001475631.1\\nchr17\\tRefSeq\\tCDS\\t6811330\\t6811453\\t.\\t+\\t0\\tName=CDS:NC_000083.5:LOC100040603;Parent=XM_001475631.1,\\nchr17\\tRefSeq\\texon\\t6806513\\t6806553\\t.\\t+\\t.\\tParent=XM_001475631.1\\nchr17\\tRefSeq\\texon\\t6812219\\t6818159\\t.\\t+\\t.\\tParent=XM_001475631.1\\nchr17\\tRefSeq\\tprotein\\t6806527\\t6812289\\t.\\t+\\t.\\tID=;Parent=XM_001475631.1\\nchr17\\tRefSeq\\tCDS\\t6811792\\t6811869\\t.\\t+\\t2\\tName=CDS:NC_000083.5:LOC100040603;Parent=XM_001475631.1,\\nchr17\\tRefSeq\\tCDS\\t6811330\\t6811453\\t.\\t+\\t0\\tName=CDS:NC_000083.5:LOC100040603;Parent=XM_001475631.1,\\nchr17\\tRefSeq\\tfive_prime_UTR\\t6806513\\t6806526\\t.\\t+\\t.\\tParent=XM_001475631.1\\nchr17\\tRefSeq\\texon\\t6797760\\t6797769\\t.\\t+\\t.\\tParent=XM_001475631.1\\nchr17\\tRefSeq\\tCDS\\t6811330\\t6811453\\t.\\t+\\t0\\tName=CDS:NC_000083.5:LOC100040603;Parent=XM_001475631.1,\\nchr17\\tRefSeq\\tthree_prime_UTR\\t6812290\\t6818159\\t.\\t+\\t.\\tParent=XM_001475631.1\\nchr17\\tRefSeq\\tCDS\\t6811792\\t6811869\\t.\\t+\\t2\\tName=CDS:NC_000083.5:LOC100040603;Parent=XM_001475631.1,\\nchr17\\tRefSeq\\tCDS\\t6811330\\t6811453\\t.\\t+\\t0\\tName=CDS:NC_000083.5:LOC100040603;Parent=XM_001475631.1,\\nchr17\\tRefSeq\\tthree_prime_UTR\\t6812290\\t6818159\\t.\\t+\\t.\\tParent=XM_001475631.1\\nchr17\\tRefSeq\\tCDS\\t6811792\\t6811869\\t.\\t+\\t2\\tName=CDS:NC_000083.5:LOC100040603;Parent=XM_001475631.1,\\nchr17\\tRefSeq\\texon\\t6797760\\t6797769\\t.\\t+\\t.\\tParent=XM_001475631.1\\nchr17\\tRefSeq\\tCDS\\t6808204\\t6808245\\t.\\t+\\t0\\tName=CDS:NC_000083.5:LOC100040603;Parent=XM_001475631.1,\\nchr17\\tRefSeq\\texon\\t6812219\\t6818159\\t.\\t+\\t.\\tParent=XM_001475631.1\\nchr17\\tRefSeq\\texon\\t6808204\\t6808245\\t.\\t+\\t.\\tParent=XM_001475631.1\\nchr17\\tRefSeq\\tCDS\\t6808204\\t6808245\\t.\\t+\\t0\\tName=CDS:NC_000083.5:LOC100040603;Parent=XM_001475631.1,\\nchr17\\tRefSeq\\texon\\t6811792\\t6811869\\t.\\t+\\t.\\tParent=XM_001475631.1\\nchr17\\tRefSeq\\tfive_prime_UTR\\t6797760\\t6797769\\t.\\t+\\t.\\tParent=XM_001475631.1\\nchr17\\tRefSeq\\tCDS\\t6812219\\t6812289\\t.\\t+\\t2\\tName=CDS:NC_000083.5:LOC100040603;Parent=XM_001475631.1,\\nchr17\\tRefSeq\\tCDS\\t6806527\\t6806553\\t.\\t+\\t0\\tName=CDS:NC_000083.5:LOC100040603;Parent=XM_001475631.1,\\nchr17\\tRefSeq\\tfive_prime_UTR\\t6797760\\t6797769\\t.\\t+\\t.\\tParent=XM_001475631.1\\nchr17\\tRefSeq\\tCDS\\t6811792\\t6811869\\t.\\t+\\t2\\tName=CDS:NC_000083.5:LOC100040603;Parent=XM_001475631.1,\\nchr17\\tRefSeq\\texon\\t6812219\\t6818159\\t.\\t+\\t.\\tParent=XM_001475631.1\\nchr17\\tRefSeq\\tCDS\\t6808204\\t6808245\\t.\\t+\\t0\\tName=CDS:NC_000083.5:LOC100040603;Parent=XM_001475631.1,\\nchr17\\tRefSeq\\texon\\t6811792\\t6811869\\t.\\t+\\t.\\tParent=XM_001475631.1\\nchr17\\tRefSeq\\texon\\t6808204\\t6808245\\t.\\t+\\t.\\tParent=XM_001475631.1\\nchr17\\tRefSeq\\texon\\t6806513\\t6806553\\t.\\t+\\t.\\tParent=XM_001475631.1\\nchr17\\tRefSeq\\texon\\t6811792\\t6811869\\t.\\t+\\t.\\tParent=XM_001475631.1\\nchr17\\tRefSeq\\tCDS\\t6811330\\t6811453\\t.\\t+\\t0\\tName=CDS:NC_000083.5:LOC100040603;Parent=XM_001475631.1,\\nchr17\\tRefSeq\\tCDS\\t6811792\\t6811869\\t.\\t+\\t2\\tName=CDS:NC_000083.5:LOC100040603;Parent=XM_001475631.1,\\nchr17\\tRefSeq\\tmRNA\\t6797760\\t6818159\\t.\\t+\\t.\\tID=XM_001475631.1;Parent=NC_000083.5:LOC100040603\\nchr17\\tRefSeq\\tCDS\\t6811792\\t6811869\\t.\\t+\\t2\\tName=CDS:NC_000083.5:LOC100040603;Parent=XM_001475631.1,\\nchr17\\tRefSeq\\tCDS\\t6812219\\t6812289\\t.\\t+\\t2\\tName=CDS:NC_000083.5:LOC100040603;Parent=XM_001475631.1,\\nchr17\\tRefSeq\\tCDS\\t6808204\\t6808245\\t.\\t+\\t0\\tName=CDS:NC_000083.5:LOC100040603;Parent=XM_001475631.1,\\nchr17\\tRefSeq\\texon\\t6806513\\t6806553\\t.\\t+\\t.\\tParent=XM_001475631.1\\nchr17\\tRefSeq\\texon\\t6811792\\t6811869\\t.\\t+\\t.\\tParent=XM_001475631.1\\nchr17\\tRefSeq\\tCDS\\t6808204\\t6808245\\t.\\t+\\t0\\tName=CDS:NC_000083.5:LOC100040603;Parent=XM_001475631.1,\\nchr17\\tRefSeq\\tCDS\\t6812219\\t6812289\\t.\\t+\\t2\\tName=CDS:NC_000083.5:LOC100040603;Parent=XM_001475631.1,\\nchr17\\tRefSeq\\tCDS\\t6812219\\t6812289\\t.\\t+\\t2\\tName=CDS:NC_000083.5:LOC100040603;Parent=XM_001475631.1,\\nchr17\\tRefSeq\\tthree_prime_UTR\\t6812290\\t6818159\\t.\\t+\\t.\\tParent=XM_001475631.1\\nchr17\\tRefSeq\\tprotein\\t6806527\\t6812289\\t.\\t+\\t.\\tID=;Parent=XM_001475631.1\\nchr17\\tRefSeq\\tCDS\\t6806527\\t6806553\\t.\\t+\\t0\\tName=CDS:NC_000083.5:LOC100040603;Parent=XM_001475631.1,\\nchr17\\tRefSeq\\tCDS\\t6812219\\t6812289\\t.\\t+\\t2\\tName=CDS:NC_000083.5:LOC100040603;Parent=XM_001475631.1,\\nchr17\\tRefSeq\\tfive_prime_UTR\\t6806513\\t6806526\\t.\\t+\\t.\\tParent=XM_001475631.1\\nchr17\\tRefSeq\\tCDS\\t6812219\\t6812289\\t.\\t+\\t2\\tName=CDS:NC_000083.5:LOC100040603;Parent=XM_001475631.1,\\nchr17\\tRefSeq\\tCDS\\t6811792\\t6811869\\t.\\t+\\t2\\tName=CDS:NC_000083.5:LOC100040603;Parent=XM_001475631.1,\\nchr17\\tRefSeq\\tthree_prime_UTR\\t6812290\\t6818159\\t.\\t+\\t.\\tParent=XM_001475631.1\\nchr17\\tRefSeq\\texon\\t6806513\\t6806553\\t.\\t+\\t.\\tParent=XM_001475631.1\\nchr17\\tRefSeq\\tCDS\\t6811330\\t6811453\\t.\\t+\\t0\\tName=CDS:NC_000083.5:LOC100040603;Parent=XM_001475631.1,\\nchr17\\tRefSeq\\texon\\t6808204\\t6808245\\t.\\t+\\t.\\tParent=XM_001475631.1\\nchr17\\tRefSeq\\texon\\t6797760\\t6797769\\t.\\t+\\t.\\tParent=XM_001475631.1\\nchr17\\tRefSeq\\tthree_prime_UTR\\t6812290\\t6818159\\t.\\t+\\t.\\tParent=XM_001475631.1\\nchr17\\tRefSeq\\texon\\t6808204\\t6808245\\t.\\t+\\t.\\tParent=XM_001475631.1\\nchr17\\tRefSeq\\texon\\t6812219\\t6818159\\t.\\t+\\t.\\tParent=XM_001475631.1\\nchr17\\tRefSeq\\tCDS\\t6808204\\t6808245\\t.\\t+\\t0\\tName=CDS:NC_000083.5:LOC100040603;Parent=XM_001475631.1,\\nchr17\\tRefSeq\\texon\\t6797760\\t6797769\\t.\\t+\\t.\\tParent=XM_001475631.1\\nchr17\\tRefSeq\\tprotein\\t6806527\\t6812289\\t.\\t+\\t.\\tID=;Parent=XM_001475631.1\\nchr17\\tRefSeq\\tCDS\\t6808204\\t6808245\\t.\\t+\\t0\\tName=CDS:NC_000083.5:LOC100040603;Parent=XM_001475631.1,\\nchr17\\tRefSeq\\texon\\t6797760\\t6797769\\t.\\t+\\t.\\tParent=XM_001475631.1\\nchr17\\tRefSeq\\tfive_prime_UTR\\t6806513\\t6806526\\t.\\t+\\t.\\tParent=XM_001475631.1\\nchr17\\tRefSeq\\texon\\t6811792\\t6811869\\t.\\t+\\t.\\tParent=XM_001475631.1\\nchr17\\tRefSeq\\tCDS\\t6806527\\t6806553\\t.\\t+\\t0\\tName=CDS:NC_000083.5:LOC100040603;Parent=XM_001475631.1,\\nchr17\\tRefSeq\\texon\\t6812219\\t6818159\\t.\\t+\\t.\\tParent=XM_001475631.1\\nchr17\\tRefSeq\\tCDS\\t6806527\\t6806553\\t.\\t+\\t0\\tName=CDS:NC_000083.5:LOC100040603;Parent=XM_001475631.1,\\nchr17\\tRefSeq\\tthree_prime_UTR\\t6812290\\t6818159\\t.\\t+\\t.\\tParent=XM_001475631.1\\nchr17\\tRefSeq\\tCDS\\t6811792\\t6811869\\t.\\t+\\t2\\tName=CDS:NC_000083.5:LOC100040603;Parent=XM_001475631.1,\\nchr17\\tRefSeq\\texon\\t6797760\\t6797769\\t.\\t+\\t.\\tParent=XM_001475631.1\\nchr17\\tRefSeq\\texon\\t6811792\\t6811869\\t.\\t+\\t.\\tParent=XM_001475631.1\\nchr17\\tRefSeq\\tprotein\\t6806527\\t6812289\\t.\\t+\\t.\\tID=;Parent=XM_001475631.1\\nchr17\\tRefSeq\\tCDS\\t6811792\\t6811869\\t.\\t+\\t2\\tName=CDS:NC_000083.5:LOC100040603;Parent=XM_001475631.1,\\nchr17\\tRefSeq\\tfive_prime_UTR\\t6797760\\t6797769\\t.\\t+\\t.\\tParent=XM_001475631.1\\nchr17\\tRefSeq\\texon\\t6797760\\t6797769\\t.\\t+\\t.\\tParent=XM_001475631.1\\nchr17\\tRefSeq\\tCDS\\t6808204\\t6808245\\t.\\t+\\t0\\tName=CDS:NC_000083.5:LOC100040603;Parent=XM_001475631.1,\\nchr17\\tRefSeq\\tCDS\\t6812219\\t6812289\\t.\\t+\\t2\\tName=CDS:NC_000083.5:LOC100040603;Parent=XM_001475631.1,\\nchr17\\tRefSeq\\tCDS\\t6806527\\t6806553\\t.\\t+\\t0\\tName=CDS:NC_000083.5:LOC100040603;Parent=XM_001475631.1,\\nchr17\\tRefSeq\\texon\\t6806513\\t6806553\\t.\\t+\\t.\\tParent=XM_001475631.1\\nchr17\\tRefSeq\\tCDS\\t6811330\\t6811453\\t.\\t+\\t0\\tName=CDS:NC_000083.5:LOC100040603;Parent=XM_001475631.1,\\nchr17\\tRefSeq\\texon\\t6808204\\t6808245\\t.\\t+\\t.\\tParent=XM_001475631.1\\nchr17\\tRefSeq\\tCDS\\t6811330\\t6811453\\t.\\t+\\t0\\tName=CDS:NC_000083.5:LOC100040603;Parent=XM_001475631.1,\\nchr17\\tRefSeq\\texon\\t6812219\\t6818159\\t.\\t+\\t.\\tParent=XM_001475631.1\\nchr17\\tRefSeq\\texon\\t6812219\\t6818159\\t.\\t+\\t.\\tParent=XM_001475631.1\\nchr17\\tRefSeq\\texon\\t6812219\\t6818159\\t.\\t+\\t.\\tParent=XM_001475631.1\\nchr17\\tRefSeq\\tCDS\\t6806527\\t6806553\\t.\\t+\\t0\\tName=CDS:NC_000083.5:LOC100040603;Parent=XM_001475631.1,\\nchr17\\tRefSeq\\tthree_prime_UTR\\t6812290\\t6818159\\t.\\t+\\t.\\tParent=XM_001475631.1\\nchr17\\tRefSeq\\texon\\t6806513\\t6806553\\t.\\t+\\t.\\tParent=XM_001475631.1\\nchr17\\tRefSeq\\texon\\t6806513\\t6806553\\t.\\t+\\t.\\tParent=XM_001475631.1\\nchr17\\tRefSeq\\texon\\t6811792\\t6811869\\t.\\t+\\t.\\tParent=XM_001475631.1\\nchr17\\tRefSeq\\tCDS\\t6808204\\t6808245\\t.\\t+\\t0\\tName=CDS:NC_000083.5:LOC100040603;Parent=XM_001475631.1,\\nchr17\\tRefSeq\\tprotein\\t6806527\\t6812289\\t.\\t+\\t.\\tID=;Parent=XM_001475631.1\\nchr17\\tRefSeq\\tCDS\\t6806527\\t6806553\\t.\\t+\\t0\\tName=CDS:NC_000083.5:LOC100040603;Parent=XM_001475631.1,\\nchr17\\tRefSeq\\texon\\t6811330\\t6811453\\t.\\t+\\t.\\tParent=XM_001475631.1\\nchr17\\tRefSeq\\tthree_prime_UTR\\t6812290\\t6818159\\t.\\t+\\t.\\tParent=XM_001475631.1\\nchr17\\tRefSeq\\tCDS\\t6812219\\t6812289\\t.\\t+\\t2\\tName=CDS:NC_000083.5:LOC100040603;Parent=XM_001475631.1,\\nchr17\\tRefSeq\\tCDS\\t6808204\\t6808245\\t.\\t+\\t0\\tName=CDS:NC_000083.5:LOC100040603;Parent=XM_001475631.1,\\nchr17\\tRefSeq\\tCDS\\t6812219\\t6812289\\t.\\t+\\t2\\tName=CDS:NC_000083.5:LOC100040603;Parent=XM_001475631.1,\\nchr17\\tRefSeq\\tprotein\\t6806527\\t6812289\\t.\\t+\\t.\\tID=;Parent=XM_001475631.1\\nchr17\\tRefSeq\\tmRNA\\t6797760\\t6818159\\t.\\t+\\t.\\tID=XM_001475631.1;Parent=NC_000083.5:LOC100040603\\nchr17\\tRefSeq\\texon\\t6797760\\t6797769\\t.\\t+\\t.\\tParent=XM_001475631.1\\nchr17\\tRefSeq\\tCDS\\t6811792\\t6811869\\t.\\t+\\t2\\tName=CDS:NC_000083.5:LOC100040603;Parent=XM_001475631.1,\\nchr17\\tRefSeq\\texon\\t6812219\\t6818159\\t.\\t+\\t.\\tParent=XM_001475631.1\\nchr17\\tRefSeq\\texon\\t6811792\\t6811869\\t.\\t+\\t.\\tParent=XM_001475631.1\\nchr17\\tRefSeq\\texon\\t6808204\\t6808245\\t.\\t+\\t.\\tParent=XM_001475631.1\\nchr17\\tRefSeq\\tthree_prime_UTR\\t6812290\\t6818159\\t.\\t+\\t.\\tParent=XM_001475631.1\\nchr17\\tRefSeq\\texon\\t6811792\\t6811869\\t.\\t+\\t.\\tParent=XM_001475631.1\\nchr17\\tRefSeq\\texon\\t6811330\\t6811453\\t.\\t+\\t.\\tParent=XM_001475631.1\\nchr17\\tRefSeq\\tthree_prime_UTR\\t6812290\\t6818159\\t.\\t+\\t.\\tParent=XM_001475631.1\\nchr17\\tRefSeq\\tCDS\\t6806527\\t6806553\\t.\\t+\\t0\\tName=CDS:NC_000083.5:LOC100040603;Parent=XM_001475631.1,\\nchr17\\tRefSeq\\tmRNA\\t6797760\\t6818159\\t.\\t+\\t.\\tID=XM_001475631.1;Parent=NC_000083.5:LOC100040603\\nchr17\\tRefSeq\\tprotein\\t6806527\\t6812289\\t.\\t+\\t.\\tID=;Parent=XM_001475631.1\\nchr17\\tRefSeq\\tCDS\\t6811792\\t6811869\\t.\\t+\\t2\\tName=CDS:NC_000083.5:LOC100040603;Parent=XM_001475631.1,\\nchr17\\tRefSeq\\texon\\t6808204\\t6808245\\t.\\t+\\t.\\tParent=XM_001475631.1\\nchr17\\tRefSeq\\texon\\t6806513\\t6806553\\t.\\t+\\t.\\tParent=XM_001475631.1\\nchr17\\tRefSeq\\tmRNA\\t6797760\\t6818159\\t.\\t+\\t.\\tID=XM_001475631.1;Parent=NC_000083.5:LOC100040603\\nchr17\\tRefSeq\\tthree_prime_UTR\\t6812290\\t6818159\\t.\\t+\\t.\\tParent=XM_001475631.1\\nchr17\\tRefSeq\\texon\\t6806513\\t6806553\\t.\\t+\\t.\\tParent=XM_001475631.1\\nchr17\\tRefSeq\\tCDS\\t6811792\\t6811869\\t.\\t+\\t2\\tName=CDS:NC_000083.5:LOC100040603;Parent=XM_001475631.1,\\nchr17\\tRefSeq\\tfive_prime_UTR\\t6797760\\t6797769\\t.\\t+\\t.\\tParent=XM_001475631.1\\nchr17\\tRefSeq\\texon\\t6811792\\t6811869\\t.\\t+\\t.\\tParent=XM_001475631.1\\nchr17\\tRefSeq\\texon\\t6806513\\t6806553\\t.\\t+\\t.\\tParent=XM_001475631.1\\nchr17\\tRefSeq\\tprotein\\t6806527\\t6812289\\t.\\t+\\t.\\tID=;Parent=XM_001475631.1\\nchr17\\tRefSeq\\tCDS\\t6811792\\t6811869\\t.\\t+\\t2\\tName=CDS:NC_000083.5:LOC100040603;Parent=XM_001475631.1,\\nchr17\\tRefSeq\\tmRNA\\t6797760\\t6818159\\t.\\t+\\t.\\tID=XM_001475631.1;Parent=NC_000083.5:LOC100040603\\nchr17\\tRefSeq\\tfive_prime_UTR\\t6797760\\t6797769\\t.\\t+\\t.\\tParent=XM_001475631.1\\nchr17\\tRefSeq\\texon\\t6808204\\t6808245\\t.\\t+\\t.\\tParent=XM_001475631.1\\nchr17\\tRefSeq\\texon\\t6811792\\t6811869\\t.\\t+\\t.\\tParent=XM_001475631.1\\nchr17\\tRefSeq\\texon\\t6797760\\t6797769\\t.\\t+\\t.\\tParent=XM_001475631.1\\nchr17\\tRefSeq\\tthree_prime_UTR\\t6812290\\t6818159\\t.\\t+\\t.\\tParent=XM_001475631.1\\nchr17\\tRefSeq\\texon\\t6811792\\t6811869\\t.\\t+\\t.\\tParent=XM_001475631.1\\nchr17\\tRefSeq\\tCDS\\t6811330\\t6811453\\t.\\t+\\t0\\tName=CDS:NC_000083.5:LOC100040603;Parent=XM_001475631.1,\\nchr17\\tRefSeq\\texon\\t6811792\\t6811869\\t.\\t+\\t.\\tParent=XM_001475631.1\\nchr17\\tRefSeq\\texon\\t6812219\\t6818159\\t.\\t+\\t.\\tParent=XM_001475631.1\\nchr17\\tRefSeq\\texon\\t6808204\\t6808245\\t.\\t+\\t.\\tParent=XM_001475631.1\\nchr17\\tRefSeq\\tCDS\\t6812219\\t6812289\\t.\\t+\\t2\\tName=CDS:NC_000083.5:LOC100040603;Parent=XM_001475631.1,\\nchr17\\tRefSeq\\tthree_prime_UTR\\t6812290\\t6818159\\t.\\t+\\t.\\tParent=XM_001475631.1\\nchr17\\tRefSeq\\tCDS\\t6808204\\t6808245\\t.\\t+\\t0\\tName=CDS:NC_000083.5:LOC100040603;Parent=XM_001475631.1,\\nchr17\\tRefSeq\\texon\\t6812219\\t6818159\\t.\\t+\\t.\\tParent=XM_001475631.1\\nchr17\\tRefSeq\\tmRNA\\t6797760\\t6818159\\t.\\t+\\t.\\tID=XM_001475631.1;Parent=NC_000083.5:LOC100040603\\nchr17\\tRefSeq\\texon\\t6811792\\t6811869\\t.\\t+\\t.\\tParent=XM_001475631.1\\nchr17\\tRefSeq\\tCDS\\t6811330\\t6811453\\t.\\t+\\t0\\tName=CDS:NC_000083.5:LOC100040603;Parent=XM_001475631.1,\\nchr17\\tRefSeq\\texon\\t6811792\\t6811869\\t.\\t+\\t.\\tParent=XM_001475631.1\\nchr17\\tRefSeq\\texon\\t6812219\\t6818159\\t.\\t+\\t.\\tParent=XM_001475631.1\\nchr17\\tRefSeq\\texon\\t6808204\\t6808245\\t.\\t+\\t.\\tParent=XM_001475631.1\\nchr17\\tRefSeq\\tfive_prime_UTR\\t6806513\\t6806526\\t.\\t+\\t.\\tParent=XM_001475631.1\\nchr17\\tRefSeq\\tmRNA\\t6797760\\t6818159\\t.\\t+\\t.\\tID=XM_001475631.1;Parent=NC_000083.5:LOC100040603\\nchr17\\tRefSeq\\tCDS\\t6812219\\t6812289\\t.\\t+\\t2\\tName=CDS:NC_000083.5:LOC100040603;Parent=XM_001475631.1,\\nchr17\\tRefSeq\\tfive_prime_UTR\\t6797760\\t6797769\\t.\\t+\\t.\\tParent=XM_001475631.1\\nchr17\\tRefSeq\\texon\\t6797760\\t6797769\\t.\\t+\\t.\\tParent=XM_001475631.1\\nchr17\\tRefSeq\\tCDS\\t6806527\\t6806553\\t.\\t+\\t0\\tName=CDS:NC_000083.5:LOC100040603;Parent=XM_001475631.1,\\nchr17\\tRefSeq\\tCDS\\t6808204\\t6808245\\t.\\t+\\t0\\tName=CDS:NC_000083.5:LOC100040603;Parent=XM_001475631.1,\\nchr17\\tRefSeq\\tprotein\\t6806527\\t6812289\\t.\\t+\\t.\\tID=;Parent=XM_001475631.1\\nchr17\\tRefSeq\\texon\\t6806513\\t6806553\\t.\\t+\\t.\\tParent=XM_001475631.1\\nchr17\\tRefSeq\\texon\\t6808204\\t6808245\\t.\\t+\\t.\\tParent=XM_001475631.1\\nchr17\\tRefSeq\\tfive_prime_UTR\\t6806513\\t6806526\\t.\\t+\\t.\\tParent=XM_001475631.1\\nchr17\\tRefSeq\\texon\\t6812219\\t6818159\\t.\\t+\\t.\\tParent=XM_001475631.1\\nchr17\\tRefSeq\\tfive_prime_UTR\\t6797760\\t6797769\\t.\\t+\\t.\\tParent=XM_001475631.1\\nchr17\\tRefSeq\\tCDS\\t6812219\\t6812289\\t.\\t+\\t2\\tName=CDS:NC_000083.5:LOC100040603;Parent=XM_001475631.1,\\nchr17\\tRefSeq\\texon\\t6797760\\t6797769\\t.\\t+\\t.\\tParent=XM_001475631.1\\nchr17\\tRefSeq\\tprotein\\t6806527\\t6812289\\t.\\t+\\t.\\tID=;Parent=XM_001475631.1\\nchr17\\tRefSeq\\tprotein\\t6806527\\t6812289\\t.\\t+\\t.\\tID=;Parent=XM_001475631.1\\nchr17\\tRefSeq\\tthree_prime_UTR\\t6812290\\t6818159\\t.\\t+\\t.\\tParent=XM_001475631.1\\nchr17\\tRefSeq\\tmRNA\\t6797760\\t6818159\\t.\\t+\\t.\\tID=XM_001475631.1;Parent=NC_000083.5:LOC100040603\\nchr17\\tRefSeq\\tCDS\\t6811792\\t6811869\\t.\\t+\\t2\\tName=CDS:NC_000083.5:LOC100040603;Parent=XM_001475631.1,\\nchr17\\tRefSeq\\tCDS\\t6808204\\t6808245\\t.\\t+\\t0\\tName=CDS:NC_000083.5:LOC100040603;Parent=XM_001475631.1,\\nchr17\\tRefSeq\\texon\\t6806513\\t6806553\\t.\\t+\\t.\\tParent=XM_001475631.1\\nchr17\\tRefSeq\\tmRNA\\t6797760\\t6818159\\t.\\t+\\t.\\tID=XM_001475631.1;Parent=NC_000083.5:LOC100040603\\nchr17\\tRefSeq\\tprotein\\t6806527\\t6812289\\t.\\t+\\t.\\tID=;Parent=XM_001475631.1\\nchr17\\tRefSeq\\tCDS\\t6811792\\t6811869\\t.\\t+\\t2\\tName=CDS:NC_000083.5:LOC100040603;Parent=XM_001475631.1,\\nchr17\\tRefSeq\\tCDS\\t6812219\\t6812289\\t.\\t+\\t2\\tName=CDS:NC_000083.5:LOC100040603;Parent=XM_001475631.1,\\nchr17\\tRefSeq\\texon\\t6811792\\t6811869\\t.\\t+\\t.\\tParent=XM_001475631.1\\nchr17\\tRefSeq\\texon\\t6811330\\t6811453\\t.\\t+\\t.\\tParent=XM_001475631.1\\nchr17\\tRefSeq\\tfive_prime_UTR\\t6797760\\t6797769\\t.\\t+\\t.\\tParent=XM_001475631.1\\nchr17\\tRefSeq\\tCDS\\t6806527\\t6806553\\t.\\t+\\t0\\tName=CDS:NC_000083.5:LOC100040603;Parent=XM_001475631.1,\\nchr17\\tRefSeq\\tCDS\\t6806527\\t6806553\\t.\\t+\\t0\\tName=CDS:NC_000083.5:LOC100040603;Parent=XM_001475631.1,\\nchr17\\tRefSeq\\texon\\t6811792\\t6811869\\t.\\t+\\t.\\tParent=XM_001475631.1\\nchr17\\tRefSeq\\texon\\t6797760\\t6797769\\t.\\t+\\t.\\tParent=XM_001475631.1\\nchr17\\tRefSeq\\texon\\t6811792\\t6811869\\t.\\t+\\t.\\tParent=XM_001475631.1\\nchr17\\tRefSeq\\tfive_prime_UTR\\t6806513\\t6806526\\t.\\t+\\t.\\tParent=XM_001475631.1\\nchr17\\tRefSeq\\tfive_prime_UTR\\t6806513\\t6806526\\t.\\t+\\t.\\tParent=XM_001475631.1\\nchr17\\tRefSeq\\tCDS\\t6806527\\t6806553\\t.\\t+\\t0\\tName=CDS:NC_000083.5:LOC100040603;Parent=XM_001475631.1,\\nchr17\\tRefSeq\\texon\\t6811330\\t6811453\\t.\\t+\\t.\\tParent=XM_001475631.1\\nchr17\\tRefSeq\\tCDS\\t6806527\\t6806553\\t.\\t+\\t0\\tName=CDS:NC_000083.5:LOC100040603;Parent=XM_001475631.1,\\nchr17\\tRefSeq\\tCDS\\t6808204\\t6808245\\t.\\t+\\t0\\tName=CDS:NC_000083.5:LOC100040603;Parent=XM_001475631.1,\\nchr17\\tRefSeq\\tfive_prime_UTR\\t6806513\\t6806526\\t.\\t+\\t.\\tParent=XM_001475631.1\\nchr17\\tRefSeq\\tCDS\\t6811792\\t6811869\\t.\\t+\\t2\\tName=CDS:NC_000083.5:LOC100040603;Parent=XM_001475631.1,\\nchr17\\tRefSeq\\tCDS\\t6812219\\t6812289\\t.\\t+\\t2\\tName=CDS:NC_000083.5:LOC100040603;Parent=XM_001475631.1,\\nchr17\\tRefSeq\\texon\\t6811792\\t6811869\\t.\\t+\\t.\\tParent=XM_001475631.1\\nchr17\\tRefSeq\\texon\\t6797760\\t6797769\\t.\\t+\\t.\\tParent=XM_001475631.1\\nchr17\\tRefSeq\\tfive_prime_UTR\\t6806513\\t6806526\\t.\\t+\\t.\\tParent=XM_001475631.1\\nchr17\\tRefSeq\\tCDS\\t6808204\\t6808245\\t.\\t+\\t0\\tName=CDS:NC_000083.5:LOC100040603;Parent=XM_001475631.1,\\nchr17\\tRefSeq\\tCDS\\t6811792\\t6811869\\t.\\t+\\t2\\tName=CDS:NC_000083.5:LOC100040603;Parent=XM_001475631.1,\\nchr17\\tRefSeq\\tCDS\\t6806527\\t6806553\\t.\\t+\\t0\\tName=CDS:NC_000083.5:LOC100040603;Parent=XM_001475631.1,\\nchr17\\tRefSeq\\tCDS\\t6811792\\t6811869\\t.\\t+\\t2\\tName=CDS:NC_000083.5:LOC100040603;Parent=XM_001475631.1,\\nchr17\\tRefSeq\\texon\\t6806513\\t6806553\\t.\\t+\\t.\\tParent=XM_001475631.1\\nchr17\\tRefSeq\\tCDS\\t6811330\\t6811453\\t.\\t+\\t0\\tName=CDS:NC_000083.5:LOC100040603;Parent=XM_001475631.1,\\nchr17\\tRefSeq\\tprotein\\t6806527\\t6812289\\t.\\t+\\t.\\tID=;Parent=XM_001475631.1\\nchr17\\tRefSeq\\tCDS\\t6811792\\t6811869\\t.\\t+\\t2\\tName=CDS:NC_000083.5:LOC100040603;Parent=XM_001475631.1,\\nchr17\\tRefSeq\\tCDS\\t6811330\\t6811453\\t.\\t+\\t0\\tName=CDS:NC_000083.5:LOC100040603;Parent=XM_001475631.1,\\nchr17\\tRefSeq\\tCDS\\t6811792\\t6811869\\t.\\t+\\t2\\tName=CDS:NC_000083.5:LOC100040603;Parent=XM_001475631.1,\\nchr17\\tRefSeq\\texon\\t6797760\\t6797769\\t.\\t+\\t.\\tParent=XM_001475631.1\\nchr17\\tRefSeq\\tmRNA\\t6797760\\t6818159\\t.\\t+\\t.\\tID=XM_001475631.1;Parent=NC_000083.5:LOC100040603\\nchr17\\tRefSeq\\texon\\t6811330\\t6811453\\t.\\t+\\t.\\tParent=XM_001475631.1\\nchr17\\tRefSeq\\tCDS\\t6812219\\t6812289\\t.\\t+\\t2\\tName=CDS:NC_000083.5:LOC100040603;Parent=XM_001475631.1,\\nchr17\\tRefSeq\\tfive_prime_UTR\\t6806513\\t6806526\\t.\\t+\\t.\\tParent=XM_001475631.1\\nchr17\\tRefSeq\\tprotein\\t6806527\\t6812289\\t.\\t+\\t.\\tID=;Parent=XM_001475631.1\\nchr17\\tRefSeq\\tCDS\\t6808204\\t6808245\\t.\\t+\\t0\\tName=CDS:NC_000083.5:LOC100040603;Parent=XM_001475631.1,\\nchr17\\tRefSeq\\tfive_prime_UTR\\t6806513\\t6806526\\t.\\t+\\t.\\tParent=XM_001475631.1\\nchr17\\tRefSeq\\texon\\t6808204\\t6808245\\t.\\t+\\t.\\tParent=XM_001475631.1\\nchr17\\tRefSeq\\tfive_prime_UTR\\t6797760\\t6797769\\t.\\t+\\t.\\tParent=XM_001475631.1\\nchr17\\tRefSeq\\tfive_prime_UTR\\t6797760\\t6797769\\t.\\t+\\t.\\tParent=XM_001475631.1\\nchr17\\tRefSeq\\tthree_prime_UTR\\t6812290\\t6818159\\t.\\t+\\t.\\tParent=XM_001475631.1\\nchr17\\tRefSeq\\tCDS\\t6811330\\t6811453\\t.\\t+\\t0\\tName=CDS:NC_000083.5:LOC100040603;Parent=XM_001475631.1,\\nchr17\\tRefSeq\\texon\\t6811330\\t6811453\\t.\\t+\\t.\\tParent=XM_001475631.1\\nchr17\\tRefSeq\\texon\\t6808204\\t6808245\\t.\\t+\\t.\\tParent=XM_001475631.1\\nchr17\\tRefSeq\\texon\\t6808204\\t6808245\\t.\\t+\\t.\\tParent=XM_001475631.1\\nchr17\\tRefSeq\\texon\\t6806513\\t6806553\\t.\\t+\\t.\\tParent=XM_001475631.1\\nchr17\\tRefSeq\\tCDS\\t6811330\\t6811453\\t.\\t+\\t0\\tName=CDS:NC_000083.5:LOC100040603;Parent=XM_001475631.1,\\nchr17\\tRefSeq\\tmRNA\\t6797760\\t6818159\\t.\\t+\\t.\\tID=XM_001475631.1;Parent=NC_000083.5:LOC100040603\\nchr17\\tRefSeq\\texon\\t6812219\\t6818159\\t.\\t+\\t.\\tParent=XM_001475631.1\\nchr17\\tRefSeq\\tCDS\\t6811792\\t6811869\\t.\\t+\\t2\\tName=CDS:NC_000083.5:LOC100040603;Parent=XM_001475631.1,\\nchr17\\tRefSeq\\texon\\t6797760\\t6797769\\t.\\t+\\t.\\tParent=XM_001475631.1\\nchr17\\tRefSeq\\tCDS\\t6812219\\t6812289\\t.\\t+\\t2\\tName=CDS:NC_000083.5:LOC100040603;Parent=XM_001475631.1,\\nchr17\\tRefSeq\\texon\\t6808204\\t6808245\\t.\\t+\\t.\\tParent=XM_001475631.1\\nchr17\\tRefSeq\\texon\\t6806513\\t6806553\\t.\\t+\\t.\\tParent=XM_001475631.1\\nchr17\\tRefSeq\\texon\\t6808204\\t6808245\\t.\\t+\\t.\\tParent=XM_001475631.1\\nchr17\\tRefSeq\\texon\\t6797760\\t6797769\\t.\\t+\\t.\\tParent=XM_001475631.1\\nchr17\\tRefSeq\\tmRNA\\t6797760\\t6818159\\t.\\t+\\t.\\tID=XM_001475631.1;Parent=NC_000083.5:LOC100040603\\nchr17\\tRefSeq\\texon\\t6806513\\t6806553\\t.\\t+\\t.\\tParent=XM_001475631.1\\nchr17\\tRefSeq\\tprotein\\t6806527\\t6812289\\t.\\t+\\t.\\tID=;Parent=XM_001475631.1\\nchr17\\tRefSeq\\tmRNA\\t6797760\\t6818159\\t.\\t+\\t.\\tID=XM_001475631.1;Parent=NC_000083.5:LOC100040603\\nchr17\\tRefSeq\\texon\\t6811792\\t6811869\\t.\\t+\\t.\\tParent=XM_001475631.1\\nchr17\\tRefSeq\\tCDS\\t6812219\\t6812289\\t.\\t+\\t2\\tName=CDS:NC_000083.5:LOC100040603;Parent=XM_001475631.1,\\nchr17\\tRefSeq\\tfive_prime_UTR\\t6797760\\t6797769\\t.\\t+\\t.\\tParent=XM_001475631.1\\nchr17\\tRefSeq\\tCDS\\t6811330\\t6811453\\t.\\t+\\t0\\tName=CDS:NC_000083.5:LOC100040603;Parent=XM_001475631.1,\\nchr17\\tRefSeq\\texon\\t6811330\\t6811453\\t.\\t+\\t.\\tParent=XM_001475631.1\\nchr17\\tRefSeq\\tCDS\\t6808204\\t6808245\\t.\\t+\\t0\\tName=CDS:NC_000083.5:LOC100040603;Parent=XM_001475631.1,\\nchr17\\tRefSeq\\texon\\t6811792\\t6811869\\t.\\t+\\t.\\tParent=XM_001475631.1\\nchr17\\tRefSeq\\tCDS\\t6812219\\t6812289\\t.\\t+\\t2\\tName=CDS:NC_000083.5:LOC100040603;Parent=XM_001475631.1,\\nchr17\\tRefSeq\\texon\\t6806513\\t6806553\\t.\\t+\\t.\\tParent=XM_001475631.1\\nchr17\\tRefSeq\\texon\\t6811330\\t6811453\\t.\\t+\\t.\\tParent=XM_001475631.1\\nchr17\\tRefSeq\\tCDS\\t6811792\\t6811869\\t.\\t+\\t2\\tName=CDS:NC_000083.5:LOC100040603;Parent=XM_001475631.1,\\nchr17\\tRefSeq\\tprotein\\t6806527\\t6812289\\t.\\t+\\t.\\tID=;Parent=XM_001475631.1\\nchr17\\tRefSeq\\tfive_prime_UTR\\t6806513\\t6806526\\t.\\t+\\t.\\tParent=XM_001475631.1\\nchr17\\tRefSeq\\tCDS\\t6806527\\t6806553\\t.\\t+\\t0\\tName=CDS:NC_000083.5:LOC100040603;Parent=XM_001475631.1,\\nchr17\\tRefSeq\\tCDS\\t6811330\\t6811453\\t.\\t+\\t0\\tName=CDS:NC_000083.5:LOC100040603;Parent=XM_001475631.1,\\nchr17\\tRefSeq\\texon\\t6797760\\t6797769\\t.\\t+\\t.\\tParent=XM_001475631.1\\nchr17\\tRefSeq\\texon\\t6797760\\t6797769\\t.\\t+\\t.\\tParent=XM_001475631.1\\nchr17\\tRefSeq\\tmRNA\\t6797760\\t6818159\\t.\\t+\\t.\\tID=XM_001475631.1;Parent=NC_000083.5:LOC100040603\\nchr17\\tRefSeq\\tCDS\\t6811792\\t6811869\\t.\\t+\\t2\\tName=CDS:NC_000083.5:LOC100040603;Parent=XM_001475631.1,\\nchr17\\tRefSeq\\tCDS\\t6808204\\t6808245\\t.\\t+\\t0\\tName=CDS:NC_000083.5:LOC100040603;Parent=XM_001475631.1,\\nchr17\\tRefSeq\\texon\\t6797760\\t6797769\\t.\\t+\\t.\\tParent=XM_001475631.1\\nchr17\\tRefSeq\\tCDS\\t6808204\\t6808245\\t.\\t+\\t0\\tName=CDS:NC_000083.5:LOC100040603;Parent=XM_001475631.1,\\nchr17\\tRefSeq\\tthree_prime_UTR\\t6812290\\t6818159\\t.\\t+\\t.\\tParent=XM_001475631.1\\nchr17\\tRefSeq\\tCDS\\t6806527\\t6806553\\t.\\t+\\t0\\tName=CDS:NC_000083.5:LOC100040603;Parent=XM_001475631.1,\\nchr17\\tRefSeq\\texon\\t6797760\\t6797769\\t.\\t+\\t.\\tParent=XM_001475631.1\\nchr17\\tRefSeq\\tCDS\\t6811792\\t6811869\\t.\\t+\\t2\\tName=CDS:NC_000083.5:LOC100040603;Parent=XM_001475631.1,\\nchr17\\tRefSeq\\tCDS\\t6806527\\t6806553\\t.\\t+\\t0\\tName=CDS:NC_000083.5:LOC100040603;Parent=XM_001475631.1,\\nchr17\\tRefSeq\\tprotein\\t6806527\\t6812289\\t.\\t+\\t.\\tID=;Parent=XM_001475631.1\\nchr17\\tRefSeq\\tCDS\\t6812219\\t6812289\\t.\\t+\\t2\\tName=CDS:NC_000083.5:LOC100040603;Parent=XM_001475631.1,\\nchr17\\tRefSeq\\tfive_prime_UTR\\t6806513\\t6806526\\t.\\t+\\t.\\tParent=XM_001475631.1\\nchr17\\tRefSeq\\texon\\t6811792\\t6811869\\t.\\t+\\t.\\tParent=XM_001475631.1\\nchr17\\tRefSeq\\tprotein\\t6806527\\t6812289\\t.\\t+\\t.\\tID=;Parent=XM_001475631.1\\nchr17\\tRefSeq\\texon\\t6811330\\t6811453\\t.\\t+\\t.\\tParent=XM_001475631.1\\nchr17\\tRefSeq\\texon\\t6808204\\t6808245\\t.\\t+\\t.\\tParent=XM_001475631.1\\nchr17\\tRefSeq\\texon\\t6797760\\t6797769\\t.\\t+\\t.\\tParent=XM_001475631.1\\nchr17\\tRefSeq\\texon\\t6806513\\t6806553\\t.\\t+\\t.\\tParent=XM_001475631.1\\nchr17\\tRefSeq\\tCDS\\t6808204\\t6808245\\t.\\t+\\t0\\tName=CDS:NC_000083.5:LOC100040603;Parent=XM_001475631.1,\\nchr17\\tRefSeq\\tCDS\\t6806527\\t6806553\\t.\\t+\\t0\\tName=CDS:NC_000083.5:LOC100040603;Parent=XM_001475631.1,\\nchr17\\tRefSeq\\texon\\t6811330\\t6811453\\t.\\t+\\t.\\tParent=XM_001475631.1\\nchr17\\tRefSeq\\texon\\t6808204\\t6808245\\t.\\t+\\t.\\tParent=XM_001475631.1\\nchr17\\tRefSeq\\tmRNA\\t6797760\\t6818159\\t.\\t+\\t.\\tID=XM_001475631.1;Parent=NC_000083.5:LOC100040603\\nchr17\\tRefSeq\\texon\\t6811792\\t6811869\\t.\\t+\\t.\\tParent=XM_001475631.1\\nchr17\\tRefSeq\\tprotein\\t6806527\\t6812289\\t.\\t+\\t.\\tID=;Parent=XM_001475631.1\\nchr17\\tRefSeq\\texon\\t6811330\\t6811453\\t.\\t+\\t.\\tParent=XM_001475631.1\\nchr17\\tRefSeq\\tfive_prime_UTR\\t6797760\\t6797769\\t.\\t+\\t.\\tParent=XM_001475631.1\\nchr17\\tRefSeq\\tCDS\\t6806527\\t6806553\\t.\\t+\\t0\\tName=CDS:NC_000083.5:LOC100040603;Parent=XM_001475631.1,\\nchr17\\tRefSeq\\texon\\t6812219\\t6818159\\t.\\t+\\t.\\tParent=XM_001475631.1\\nchr17\\tRefSeq\\tCDS\\t6812219\\t6812289\\t.\\t+\\t2\\tName=CDS:NC_000083.5:LOC100040603;Parent=XM_001475631.1,\\nchr17\\tRefSeq\\texon\\t6808204\\t6808245\\t.\\t+\\t.\\tParent=XM_001475631.1\\nchr17\\tRefSeq\\tfive_prime_UTR\\t6797760\\t6797769\\t.\\t+\\t.\\tParent=XM_001475631.1\\nchr17\\tRefSeq\\texon\\t6797760\\t6797769\\t.\\t+\\t.\\tParent=XM_001475631.1\\nchr17\\tRefSeq\\texon\\t6812219\\t6818159\\t.\\t+\\t.\\tParent=XM_001475631.1\\nchr17\\tRefSeq\\tprotein\\t6806527\\t6812289\\t.\\t+\\t.\\tID=;Parent=XM_001475631.1\\nchr17\\tRefSeq\\tCDS\\t6811792\\t6811869\\t.\\t+\\t2\\tName=CDS:NC_000083.5:LOC100040603;Parent=XM_001475631.1,\\nchr17\\tRefSeq\\tfive_prime_UTR\\t6797760\\t6797769\\t.\\t+\\t.\\tParent=XM_001475631.1\\nchr17\\tRefSeq\\tmRNA\\t6797760\\t6818159\\t.\\t+\\t.\\tID=XM_001475631.1;Parent=NC_000083.5:LOC100040603\\nchr17\\tRefSeq\\tfive_prime_UTR\\t6797760\\t6797769\\t.\\t+\\t.\\tParent=XM_001475631.1\\nchr17\\tRefSeq\\tCDS\\t6808204\\t6808245\\t.\\t+\\t0\\tName=CDS:NC_000083.5:LOC100040603;Parent=XM_001475631.1,\\nchr17\\tRefSeq\\texon\\t6811792\\t6811869\\t.\\t+\\t.\\tParent=XM_001475631.1\\nchr17\\tRefSeq\\tprotein\\t6806527\\t6812289\\t.\\t+\\t.\\tID=;Parent=XM_001475631.1\\nchr17\\tRefSeq\\tCDS\\t6808204\\t6808245\\t.\\t+\\t0\\tName=CDS:NC_000083.5:LOC100040603;Parent=XM_001475631.1,\\nchr17\\tRefSeq\\tmRNA\\t6797760\\t6818159\\t.\\t+\\t.\\tID=XM_001475631.1;Parent=NC_000083.5:LOC100040603\\nchr17\\tRefSeq\\tthree_prime_UTR\\t6812290\\t6818159\\t.\\t+\\t.\\tParent=XM_001475631.1\\nchr17\\tRefSeq\\texon\\t6811792\\t6811869\\t.\\t+\\t.\\tParent=XM_001475631.1\\nchr17\\tRefSeq\\texon\\t6797760\\t6797769\\t.\\t+\\t.\\tParent=XM_001475631.1\\nchr17\\tRefSeq\\texon\\t6811792\\t6811869\\t.\\t+\\t.\\tParent=XM_001475631.1\\nchr17\\tRefSeq\\tCDS\\t6812219\\t6812289\\t.\\t+\\t2\\tName=CDS:NC_000083.5:LOC100040603;Parent=XM_001475631.1,\\nchr17\\tRefSeq\\tCDS\\t6812219\\t6812289\\t.\\t+\\t2\\tName=CDS:NC_000083.5:LOC100040603;Parent=XM_001475631.1,\\nchr17\\tRefSeq\\texon\\t6811330\\t6811453\\t.\\t+\\t.\\tParent=XM_001475631.1\\nchr17\\tRefSeq\\texon\\t6797760\\t6797769\\t.\\t+\\t.\\tParent=XM_001475631.1\\nchr17\\tRefSeq\\tCDS\\t6811330\\t6811453\\t.\\t+\\t0\\tName=CDS:NC_000083.5:LOC100040603;Parent=XM_001475631.1,\\nchr17\\tRefSeq\\texon\\t6812219\\t6818159\\t.\\t+\\t.\\tParent=XM_001475631.1\\nchr17\\tRefSeq\\tCDS\\t6812219\\t6812289\\t.\\t+\\t2\\tName=CDS:NC_000083.5:LOC100040603;Parent=XM_001475631.1,\\nchr17\\tRefSeq\\texon\\t6812219\\t6818159\\t.\\t+\\t.\\tParent=XM_001475631.1\\nchr17\\tRefSeq\\texon\\t6806513\\t6806553\\t.\\t+\\t.\\tParent=XM_001475631.1\\nchr17\\tRefSeq\\tCDS\\t6806527\\t6806553\\t.\\t+\\t0\\tName=CDS:NC_000083.5:LOC100040603;Parent=XM_001475631.1,\\nchr17\\tRefSeq\\texon\\t6811792\\t6811869\\t.\\t+\\t.\\tParent=XM_001475631.1\\nchr17\\tRefSeq\\tCDS\\t6812219\\t6812289\\t.\\t+\\t2\\tName=CDS:NC_000083.5:LOC100040603;Parent=XM_001475631.1,\\nchr17\\tRefSeq\\tCDS\\t6811330\\t6811453\\t.\\t+\\t0\\tName=CDS:NC_000083.5:LOC100040603;Parent=XM_001475631.1,\\nchr17\\tRefSeq\\texon\\t6806513\\t6806553\\t.\\t+\\t.\\tParent=XM_001475631.1\\nchr17\\tRefSeq\\texon\\t6808204\\t6808245\\t.\\t+\\t.\\tParent=XM_001475631.1\\nchr17\\tRefSeq\\texon\\t6812219\\t6818159\\t.\\t+\\t.\\tParent=XM_001475631.1\\nchr17\\tRefSeq\\tCDS\\t6811792\\t6811869\\t.\\t+\\t2\\tName=CDS:NC_000083.5:LOC100040603;Parent=XM_001475631.1,\\nchr17\\tRefSeq\\tmRNA\\t6797760\\t6818159\\t.\\t+\\t.\\tID=XM_001475631.1;Parent=NC_000083.5:LOC100040603\\nchr17\\tRefSeq\\tprotein\\t6806527\\t6812289\\t.\\t+\\t.\\tID=;Parent=XM_001475631.1\\nchr17\\tRefSeq\\texon\\t6806513\\t6806553\\t.\\t+\\t.\\tParent=XM_001475631.1\\nchr17\\tRefSeq\\texon\\t6808204\\t6808245\\t.\\t+\\t.\\tParent=XM_001475631.1\\nchr17\\tRefSeq\\tmRNA\\t6797760\\t6818159\\t.\\t+\\t.\\tID=XM_001475631.1;Parent=NC_000083.5:LOC100040603\\nchr17\\tRefSeq\\tCDS\\t6806527\\t6806553\\t.\\t+\\t0\\tName=CDS:NC_000083.5:LOC100040603;Parent=XM_001475631.1,\\nchr17\\tRefSeq\\tprotein\\t6806527\\t6812289\\t.\\t+\\t.\\tID=;Parent=XM_001475631.1\\nchr17\\tRefSeq\\texon\\t6812219\\t6818159\\t.\\t+\\t.\\tParent=XM_001475631.1\\nchr17\\tRefSeq\\texon\\t6811330\\t6811453\\t.\\t+\\t.\\tParent=XM_001475631.1\\nchr17\\tRefSeq\\texon\\t6811330\\t6811453\\t.\\t+\\t.\\tParent=XM_001475631.1\\nchr17\\tRefSeq\\tCDS\\t6808204\\t6808245\\t.\\t+\\t0\\tName=CDS:NC_000083.5:LOC100040603;Parent=XM_001475631.1,\\nchr17\\tRefSeq\\texon\\t6806513\\t6806553\\t.\\t+\\t.\\tParent=XM_001475631.1\\nchr17\\tRefSeq\\tCDS\\t6811330\\t6811453\\t.\\t+\\t0\\tName=CDS:NC_000083.5:LOC100040603;Parent=XM_001475631.1,\\nchr17\\tRefSeq\\tmRNA\\t6797760\\t6818159\\t.\\t+\\t.\\tID=XM_001475631.1;Parent=NC_000083.5:LOC100040603\\nchr17\\tRefSeq\\tthree_prime_UTR\\t6812290\\t6818159\\t.\\t+\\t.\\tParent=XM_001475631.1\\nchr17\\tRefSeq\\tCDS\\t6811330\\t6811453\\t.\\t+\\t0\\tName=CDS:NC_000083.5:LOC100040603;Parent=XM_001475631.1,\\nchr17\\tRefSeq\\tCDS\\t6811792\\t6811869\\t.\\t+\\t2\\tName=CDS:NC_000083.5:LOC100040603;Parent=XM_001475631.1,\\nchr17\\tRefSeq\\tthree_prime_UTR\\t6812290\\t6818159\\t.\\t+\\t.\\tParent=XM_001475631.1\\nchr17\\tRefSeq\\tfive_prime_UTR\\t6797760\\t6797769\\t.\\t+\\t.\\tParent=XM_001475631.1\\nchr17\\tRefSeq\\tCDS\\t6811792\\t6811869\\t.\\t+\\t2\\tName=CDS:NC_000083.5:LOC100040603;Parent=XM_001475631.1,\\nchr17\\tRefSeq\\texon\\t6797760\\t6797769\\t.\\t+\\t.\\tParent=XM_001475631.1\\nchr17\\tRefSeq\\tthree_prime_UTR\\t6812290\\t6818159\\t.\\t+\\t.\\tParent=XM_001475631.1\\nchr17\\tRefSeq\\tCDS\\t6808204\\t6808245\\t.\\t+\\t0\\tName=CDS:NC_000083.5:LOC100040603;Parent=XM_001475631.1,\\nchr17\\tRefSeq\\texon\\t6808204\\t6808245\\t.\\t+\\t.\\tParent=XM_001475631.1\\nchr17\\tRefSeq\\texon\\t6811330\\t6811453\\t.\\t+\\t.\\tParent=XM_001475631.1\\nchr17\\tRefSeq\\tfive_prime_UTR\\t6806513\\t6806526\\t.\\t+\\t.\\tParent=XM_001475631.1\\nchr17\\tRefSeq\\texon\\t6806513\\t6806553\\t.\\t+\\t.\\tParent=XM_001475631.1\\nchr17\\tRefSeq\\texon\\t6797760\\t6797769\\t.\\t+\\t.\\tParent=XM_001475631.1\\nchr17\\tRefSeq\\tthree_prime_UTR\\t6812290\\t6818159\\t.\\t+\\t.\\tParent=XM_001475631.1\\nchr17\\tRefSeq\\texon\\t6806513\\t6806553\\t.\\t+\\t.\\tParent=XM_001475631.1\\nchr17\\tRefSeq\\tfive_prime_UTR\\t6806513\\t6806526\\t.\\t+\\t.\\tParent=XM_001475631.1\\nchr17\\tRefSeq\\texon\\t6808204\\t6808245\\t.\\t+\\t.\\tParent=XM_001475631.1\\nchr17\\tRefSeq\\texon\\t6811330\\t6811453\\t.\\t+\\t.\\tParent=XM_001475631.1\\nchr17\\tRefSeq\\tmRNA\\t6797760\\t6818159\\t.\\t+\\t.\\tID=XM_001475631.1;Parent=NC_000083.5:LOC100040603\\nchr17\\tRefSeq\\texon\\t6811330\\t6811453\\t.\\t+\\t.\\tParent=XM_001475631.1\\nchr17\\tRefSeq\\texon\\t6806513\\t6806553\\t.\\t+\\t.\\tParent=XM_001475631.1\\nchr17\\tRefSeq\\tthree_prime_UTR\\t6812290\\t6818159\\t.\\t+\\t.\\tParent=XM_001475631.1\\nchr17\\tRefSeq\\texon\\t6806513\\t6806553\\t.\\t+\\t.\\tParent=XM_001475631.1\\nchr17\\tRefSeq\\texon\\t6811792\\t6811869\\t.\\t+\\t.\\tParent=XM_001475631.1\\nchr17\\tRefSeq\\tthree_prime_UTR\\t6812290\\t6818159\\t.\\t+\\t.\\tParent=XM_001475631.1\\nchr17\\tRefSeq\\texon\\t6797760\\t6797769\\t.\\t+\\t.\\tParent=XM_001475631.1\\nchr17\\tRefSeq\\texon\\t6812219\\t6818159\\t.\\t+\\t.\\tParent=XM_001475631.1\\nchr17\\tRefSeq\\tCDS\\t6806527\\t6806553\\t.\\t+\\t0\\tName=CDS:NC_000083.5:LOC100040603;Parent=XM_001475631.1,\\nchr17\\tRefSeq\\tthree_prime_UTR\\t6812290\\t6818159\\t.\\t+\\t.\\tParent=XM_001475631.1\\nchr17\\tRefSeq\\tthree_prime_UTR\\t6812290\\t6818159\\t.\\t+\\t.\\tParent=XM_001475631.1\\nchr17\\tRefSeq\\texon\\t6797760\\t6797769\\t.\\t+\\t.\\tParent=XM_001475631.1\\nchr17\\tRefSeq\\texon\\t6797760\\t6797769\\t.\\t+\\t.\\tParent=XM_001475631.1\\nchr17\\tRefSeq\\texon\\t6811792\\t6811869\\t.\\t+\\t.\\tParent=XM_001475631.1\\nchr17\\tRefSeq\\texon\\t6812219\\t6818159\\t.\\t+\\t.\\tParent=XM_001475631.1\\nchr17\\tRefSeq\\tfive_prime_UTR\\t6806513\\t6806526\\t.\\t+\\t.\\tParent=XM_001475631.1\\nchr17\\tRefSeq\\texon\\t6812219\\t6818159\\t.\\t+\\t.\\tParent=XM_001475631.1\\nchr17\\tRefSeq\\tprotein\\t6806527\\t6812289\\t.\\t+\\t.\\tID=;Parent=XM_001475631.1\\nchr17\\tRefSeq\\tCDS\\t6806527\\t6806553\\t.\\t+\\t0\\tName=CDS:NC_000083.5:LOC100040603;Parent=XM_001475631.1,\\nchr17\\tRefSeq\\texon\\t6811792\\t6811869\\t.\\t+\\t.\\tParent=XM_001475631.1\\nchr17\\tRefSeq\\texon\\t6806513\\t6806553\\t.\\t+\\t.\\tParent=XM_001475631.1\\n'"
      ]
     },
     "execution_count": 12,
     "metadata": {},
     "output_type": "execute_result"
    }
   ],
   "source": [
    "#df = read_csv('shared/homeworks/python_ds_miniprojects/6_gff/gff.tsv')\n",
    "df = open('shared/homeworks/python_ds_miniprojects/6_gff/gff.tsv').read()\n",
    "df"
   ]
  },
  {
   "cell_type": "code",
   "execution_count": 14,
   "metadata": {},
   "outputs": [
    {
     "data": {
      "text/plain": [
       "'seq_id,source,type,start,end,score,strand,phase,attributes\\nchr17,RefSeq,exon,6811330,6811453,.,+,.,Parent=XM_001475631.1\\nchr17,RefSeq,CDS,6808204,6808245,.,+,0,Name=CDS:NC_000083.5:LOC100040603;Parent=XM_001475631.1,\\nchr17,RefSeq,CDS,6811792,6811869,.,+,2,Name=CDS:NC_000083.5:LOC100040603;Parent=XM_001475631.1,\\nchr17,RefSeq,exon,6806513,6806553,.,+,.,Parent=XM_001475631.1\\nchr17,RefSeq,five_prime_UTR,6806513,6806526,.,+,.,Parent=XM_001475631.1\\nchr17,RefSeq,five_prime_UTR,6797760,6797769,.,+,.,Parent=XM_001475631.1\\nchr17,RefSeq,CDS,6811330,6811453,.,+,0,Name=CDS:NC_000083.5:LOC100040603;Parent=XM_001475631.1,\\nchr17,RefSeq,exon,6808204,6808245,.,+,.,Parent=XM_001475631.1\\nchr17,RefSeq,mRNA,6797760,6818159,.,+,.,ID=XM_001475631.1;Parent=NC_000083.5:LOC100040603\\nchr17,RefSeq,CDS,6808204,6808245,.,+,0,Name=CDS:NC_000083.5:LOC100040603;Parent=XM_001475631.1,\\nchr17,RefSeq,mRNA,6797760,6818159,.,+,.,ID=XM_001475631.1;Parent=NC_000083.5:LOC100040603\\nchr17,RefSeq,CDS,6806527,6806553,.,+,0,Name=CDS:NC_000083.5:LOC100040603;Parent=XM_001475631.1,\\nchr17,RefSeq,CDS,6812219,6812289,.,+,2,Name=CDS:NC_000083.5:LOC100040603;Parent=XM_001475631.1,\\nchr17,RefSeq,CDS,6811792,6811869,.,+,2,Name=CDS:NC_000083.5:LOC100040603;Parent=XM_001475631.1,\\nchr17,RefSeq,CDS,6806527,6806553,.,+,0,Name=CDS:NC_000083.5:LOC100040603;Parent=XM_001475631.1,\\nchr17,RefSeq,mRNA,6797760,6818159,.,+,.,ID=XM_001475631.1;Parent=NC_000083.5:LOC100040603\\nchr17,RefSeq,protein,6806527,6812289,.,+,.,ID=;Parent=XM_001475631.1\\nchr17,RefSeq,CDS,6812219,6812289,.,+,2,Name=CDS:NC_000083.5:LOC100040603;Parent=XM_001475631.1,\\nchr17,RefSeq,exon,6808204,6808245,.,+,.,Parent=XM_001475631.1\\nchr17,RefSeq,exon,6812219,6818159,.,+,.,Parent=XM_001475631.1\\nchr17,RefSeq,exon,6797760,6797769,.,+,.,Parent=XM_001475631.1\\nchr17,RefSeq,exon,6808204,6808245,.,+,.,Parent=XM_001475631.1\\nchr17,RefSeq,exon,6808204,6808245,.,+,.,Parent=XM_001475631.1\\nchr17,RefSeq,mRNA,6797760,6818159,.,+,.,ID=XM_001475631.1;Parent=NC_000083.5:LOC100040603\\nchr17,RefSeq,exon,6797760,6797769,.,+,.,Parent=XM_001475631.1\\nchr17,RefSeq,five_prime_UTR,6806513,6806526,.,+,.,Parent=XM_001475631.1\\nchr17,RefSeq,CDS,6812219,6812289,.,+,2,Name=CDS:NC_000083.5:LOC100040603;Parent=XM_001475631.1,\\nchr17,RefSeq,exon,6808204,6808245,.,+,.,Parent=XM_001475631.1\\nchr17,RefSeq,CDS,6811792,6811869,.,+,2,Name=CDS:NC_000083.5:LOC100040603;Parent=XM_001475631.1,\\nchr17,RefSeq,three_prime_UTR,6812290,6818159,.,+,.,Parent=XM_001475631.1\\nchr17,RefSeq,exon,6806513,6806553,.,+,.,Parent=XM_001475631.1\\nchr17,RefSeq,three_prime_UTR,6812290,6818159,.,+,.,Parent=XM_001475631.1\\nchr17,RefSeq,CDS,6806527,6806553,.,+,0,Name=CDS:NC_000083.5:LOC100040603;Parent=XM_001475631.1,\\nchr17,RefSeq,exon,6811330,6811453,.,+,.,Parent=XM_001475631.1\\nchr17,RefSeq,exon,6811330,6811453,.,+,.,Parent=XM_001475631.1\\nchr17,RefSeq,mRNA,6797760,6818159,.,+,.,ID=XM_001475631.1;Parent=NC_000083.5:LOC100040603\\nchr17,RefSeq,exon,6806513,6806553,.,+,.,Parent=XM_001475631.1\\nchr17,RefSeq,CDS,6806527,6806553,.,+,0,Name=CDS:NC_000083.5:LOC100040603;Parent=XM_001475631.1,\\nchr17,RefSeq,CDS,6806527,6806553,.,+,0,Name=CDS:NC_000083.5:LOC100040603;Parent=XM_001475631.1,\\nchr17,RefSeq,exon,6811330,6811453,.,+,.,Parent=XM_001475631.1\\nchr17,RefSeq,CDS,6806527,6806553,.,+,0,Name=CDS:NC_000083.5:LOC100040603;Parent=XM_001475631.1,\\nchr17,RefSeq,exon,6811330,6811453,.,+,.,Parent=XM_001475631.1\\nchr17,RefSeq,five_prime_UTR,6806513,6806526,.,+,.,Parent=XM_001475631.1\\nchr17,RefSeq,CDS,6811330,6811453,.,+,0,Name=CDS:NC_000083.5:LOC100040603;Parent=XM_001475631.1,\\nchr17,RefSeq,CDS,6808204,6808245,.,+,0,Name=CDS:NC_000083.5:LOC100040603;Parent=XM_001475631.1,\\nchr17,RefSeq,CDS,6812219,6812289,.,+,2,Name=CDS:NC_000083.5:LOC100040603;Parent=XM_001475631.1,\\nchr17,RefSeq,exon,6808204,6808245,.,+,.,Parent=XM_001475631.1\\nchr17,RefSeq,three_prime_UTR,6812290,6818159,.,+,.,Parent=XM_001475631.1\\nchr17,RefSeq,five_prime_UTR,6797760,6797769,.,+,.,Parent=XM_001475631.1\\nchr17,RefSeq,CDS,6811792,6811869,.,+,2,Name=CDS:NC_000083.5:LOC100040603;Parent=XM_001475631.1,\\nchr17,RefSeq,CDS,6811330,6811453,.,+,0,Name=CDS:NC_000083.5:LOC100040603;Parent=XM_001475631.1,\\nchr17,RefSeq,mRNA,6797760,6818159,.,+,.,ID=XM_001475631.1;Parent=NC_000083.5:LOC100040603\\nchr17,RefSeq,protein,6806527,6812289,.,+,.,ID=;Parent=XM_001475631.1\\nchr17,RefSeq,exon,6811330,6811453,.,+,.,Parent=XM_001475631.1\\nchr17,RefSeq,exon,6797760,6797769,.,+,.,Parent=XM_001475631.1\\nchr17,RefSeq,CDS,6812219,6812289,.,+,2,Name=CDS:NC_000083.5:LOC100040603;Parent=XM_001475631.1,\\nchr17,RefSeq,three_prime_UTR,6812290,6818159,.,+,.,Parent=XM_001475631.1\\nchr17,RefSeq,exon,6811330,6811453,.,+,.,Parent=XM_001475631.1\\nchr17,RefSeq,five_prime_UTR,6806513,6806526,.,+,.,Parent=XM_001475631.1\\nchr17,RefSeq,exon,6811792,6811869,.,+,.,Parent=XM_001475631.1\\nchr17,RefSeq,exon,6797760,6797769,.,+,.,Parent=XM_001475631.1\\nchr17,RefSeq,exon,6812219,6818159,.,+,.,Parent=XM_001475631.1\\nchr17,RefSeq,exon,6811792,6811869,.,+,.,Parent=XM_001475631.1\\nchr17,RefSeq,exon,6806513,6806553,.,+,.,Parent=XM_001475631.1\\nchr17,RefSeq,exon,6811792,6811869,.,+,.,Parent=XM_001475631.1\\nchr17,RefSeq,exon,6812219,6818159,.,+,.,Parent=XM_001475631.1\\nchr17,RefSeq,exon,6806513,6806553,.,+,.,Parent=XM_001475631.1\\nchr17,RefSeq,CDS,6811792,6811869,.,+,2,Name=CDS:NC_000083.5:LOC100040603;Parent=XM_001475631.1,\\nchr17,RefSeq,exon,6797760,6797769,.,+,.,Parent=XM_001475631.1\\nchr17,RefSeq,CDS,6811792,6811869,.,+,2,Name=CDS:NC_000083.5:LOC100040603;Parent=XM_001475631.1,\\nchr17,RefSeq,exon,6797760,6797769,.,+,.,Parent=XM_001475631.1\\nchr17,RefSeq,CDS,6808204,6808245,.,+,0,Name=CDS:NC_000083.5:LOC100040603;Parent=XM_001475631.1,\\nchr17,RefSeq,exon,6811330,6811453,.,+,.,Parent=XM_001475631.1\\nchr17,RefSeq,mRNA,6797760,6818159,.,+,.,ID=XM_001475631.1;Parent=NC_000083.5:LOC100040603\\nchr17,RefSeq,three_prime_UTR,6812290,6818159,.,+,.,Parent=XM_001475631.1\\nchr17,RefSeq,CDS,6808204,6808245,.,+,0,Name=CDS:NC_000083.5:LOC100040603;Parent=XM_001475631.1,\\nchr17,RefSeq,exon,6806513,6806553,.,+,.,Parent=XM_001475631.1\\nchr17,RefSeq,exon,6808204,6808245,.,+,.,Parent=XM_001475631.1\\nchr17,RefSeq,exon,6806513,6806553,.,+,.,Parent=XM_001475631.1\\nchr17,RefSeq,CDS,6811792,6811869,.,+,2,Name=CDS:NC_000083.5:LOC100040603;Parent=XM_001475631.1,\\nchr17,RefSeq,mRNA,6797760,6818159,.,+,.,ID=XM_001475631.1;Parent=NC_000083.5:LOC100040603\\nchr17,RefSeq,CDS,6811330,6811453,.,+,0,Name=CDS:NC_000083.5:LOC100040603;Parent=XM_001475631.1,\\nchr17,RefSeq,CDS,6806527,6806553,.,+,0,Name=CDS:NC_000083.5:LOC100040603;Parent=XM_001475631.1,\\nchr17,RefSeq,CDS,6806527,6806553,.,+,0,Name=CDS:NC_000083.5:LOC100040603;Parent=XM_001475631.1,\\nchr17,RefSeq,CDS,6808204,6808245,.,+,0,Name=CDS:NC_000083.5:LOC100040603;Parent=XM_001475631.1,\\nchr17,RefSeq,exon,6797760,6797769,.,+,.,Parent=XM_001475631.1\\nchr17,RefSeq,exon,6811792,6811869,.,+,.,Parent=XM_001475631.1\\nchr17,RefSeq,exon,6797760,6797769,.,+,.,Parent=XM_001475631.1\\nchr17,RefSeq,exon,6806513,6806553,.,+,.,Parent=XM_001475631.1\\nchr17,RefSeq,CDS,6812219,6812289,.,+,2,Name=CDS:NC_000083.5:LOC100040603;Parent=XM_001475631.1,\\nchr17,RefSeq,exon,6797760,6797769,.,+,.,Parent=XM_001475631.1\\nchr17,RefSeq,exon,6811792,6811869,.,+,.,Parent=XM_001475631.1\\nchr17,RefSeq,CDS,6811330,6811453,.,+,0,Name=CDS:NC_000083.5:LOC100040603;Parent=XM_001475631.1,\\nchr17,RefSeq,exon,6811792,6811869,.,+,.,Parent=XM_001475631.1\\nchr17,RefSeq,CDS,6806527,6806553,.,+,0,Name=CDS:NC_000083.5:LOC100040603;Parent=XM_001475631.1,\\nchr17,RefSeq,CDS,6812219,6812289,.,+,2,Name=CDS:NC_000083.5:LOC100040603;Parent=XM_001475631.1,\\nchr17,RefSeq,five_prime_UTR,6806513,6806526,.,+,.,Parent=XM_001475631.1\\nchr17,RefSeq,five_prime_UTR,6797760,6797769,.,+,.,Parent=XM_001475631.1\\nchr17,RefSeq,five_prime_UTR,6797760,6797769,.,+,.,Parent=XM_001475631.1\\nchr17,RefSeq,exon,6811792,6811869,.,+,.,Parent=XM_001475631.1\\nchr17,RefSeq,CDS,6808204,6808245,.,+,0,Name=CDS:NC_000083.5:LOC100040603;Parent=XM_001475631.1,\\nchr17,RefSeq,mRNA,6797760,6818159,.,+,.,ID=XM_001475631.1;Parent=NC_000083.5:LOC100040603\\nchr17,RefSeq,mRNA,6797760,6818159,.,+,.,ID=XM_001475631.1;Parent=NC_000083.5:LOC100040603\\nchr17,RefSeq,three_prime_UTR,6812290,6818159,.,+,.,Parent=XM_001475631.1\\nchr17,RefSeq,exon,6811792,6811869,.,+,.,Parent=XM_001475631.1\\nchr17,RefSeq,five_prime_UTR,6797760,6797769,.,+,.,Parent=XM_001475631.1\\nchr17,RefSeq,exon,6806513,6806553,.,+,.,Parent=XM_001475631.1\\nchr17,RefSeq,CDS,6811792,6811869,.,+,2,Name=CDS:NC_000083.5:LOC100040603;Parent=XM_001475631.1,\\nchr17,RefSeq,CDS,6806527,6806553,.,+,0,Name=CDS:NC_000083.5:LOC100040603;Parent=XM_001475631.1,\\nchr17,RefSeq,CDS,6808204,6808245,.,+,0,Name=CDS:NC_000083.5:LOC100040603;Parent=XM_001475631.1,\\nchr17,RefSeq,protein,6806527,6812289,.,+,.,ID=;Parent=XM_001475631.1\\nchr17,RefSeq,CDS,6806527,6806553,.,+,0,Name=CDS:NC_000083.5:LOC100040603;Parent=XM_001475631.1,\\nchr17,RefSeq,CDS,6806527,6806553,.,+,0,Name=CDS:NC_000083.5:LOC100040603;Parent=XM_001475631.1,\\nchr17,RefSeq,five_prime_UTR,6806513,6806526,.,+,.,Parent=XM_001475631.1\\nchr17,RefSeq,exon,6806513,6806553,.,+,.,Parent=XM_001475631.1\\nchr17,RefSeq,CDS,6808204,6808245,.,+,0,Name=CDS:NC_000083.5:LOC100040603;Parent=XM_001475631.1,\\nchr17,RefSeq,CDS,6806527,6806553,.,+,0,Name=CDS:NC_000083.5:LOC100040603;Parent=XM_001475631.1,\\nchr17,RefSeq,CDS,6812219,6812289,.,+,2,Name=CDS:NC_000083.5:LOC100040603;Parent=XM_001475631.1,\\nchr17,RefSeq,exon,6808204,6808245,.,+,.,Parent=XM_001475631.1\\nchr17,RefSeq,CDS,6806527,6806553,.,+,0,Name=CDS:NC_000083.5:LOC100040603;Parent=XM_001475631.1,\\nchr17,RefSeq,CDS,6811792,6811869,.,+,2,Name=CDS:NC_000083.5:LOC100040603;Parent=XM_001475631.1,\\nchr17,RefSeq,protein,6806527,6812289,.,+,.,ID=;Parent=XM_001475631.1\\nchr17,RefSeq,five_prime_UTR,6797760,6797769,.,+,.,Parent=XM_001475631.1\\nchr17,RefSeq,mRNA,6797760,6818159,.,+,.,ID=XM_001475631.1;Parent=NC_000083.5:LOC100040603\\nchr17,RefSeq,CDS,6812219,6812289,.,+,2,Name=CDS:NC_000083.5:LOC100040603;Parent=XM_001475631.1,\\nchr17,RefSeq,CDS,6811330,6811453,.,+,0,Name=CDS:NC_000083.5:LOC100040603;Parent=XM_001475631.1,\\nchr17,RefSeq,CDS,6811330,6811453,.,+,0,Name=CDS:NC_000083.5:LOC100040603;Parent=XM_001475631.1,\\nchr17,RefSeq,three_prime_UTR,6812290,6818159,.,+,.,Parent=XM_001475631.1\\nchr17,RefSeq,protein,6806527,6812289,.,+,.,ID=;Parent=XM_001475631.1\\nchr17,RefSeq,exon,6811330,6811453,.,+,.,Parent=XM_001475631.1\\nchr17,RefSeq,exon,6808204,6808245,.,+,.,Parent=XM_001475631.1\\nchr17,RefSeq,five_prime_UTR,6797760,6797769,.,+,.,Parent=XM_001475631.1\\nchr17,RefSeq,mRNA,6797760,6818159,.,+,.,ID=XM_001475631.1;Parent=NC_000083.5:LOC100040603\\nchr17,RefSeq,CDS,6811792,6811869,.,+,2,Name=CDS:NC_000083.5:LOC100040603;Parent=XM_001475631.1,\\nchr17,RefSeq,CDS,6812219,6812289,.,+,2,Name=CDS:NC_000083.5:LOC100040603;Parent=XM_001475631.1,\\nchr17,RefSeq,CDS,6811792,6811869,.,+,2,Name=CDS:NC_000083.5:LOC100040603;Parent=XM_001475631.1,\\nchr17,RefSeq,exon,6812219,6818159,.,+,.,Parent=XM_001475631.1\\nchr17,RefSeq,exon,6811330,6811453,.,+,.,Parent=XM_001475631.1\\nchr17,RefSeq,exon,6811792,6811869,.,+,.,Parent=XM_001475631.1\\nchr17,RefSeq,five_prime_UTR,6806513,6806526,.,+,.,Parent=XM_001475631.1\\nchr17,RefSeq,exon,6797760,6797769,.,+,.,Parent=XM_001475631.1\\nchr17,RefSeq,five_prime_UTR,6806513,6806526,.,+,.,Parent=XM_001475631.1\\nchr17,RefSeq,CDS,6811330,6811453,.,+,0,Name=CDS:NC_000083.5:LOC100040603;Parent=XM_001475631.1,\\nchr17,RefSeq,exon,6806513,6806553,.,+,.,Parent=XM_001475631.1\\nchr17,RefSeq,exon,6812219,6818159,.,+,.,Parent=XM_001475631.1\\nchr17,RefSeq,protein,6806527,6812289,.,+,.,ID=;Parent=XM_001475631.1\\nchr17,RefSeq,CDS,6811792,6811869,.,+,2,Name=CDS:NC_000083.5:LOC100040603;Parent=XM_001475631.1,\\nchr17,RefSeq,CDS,6811330,6811453,.,+,0,Name=CDS:NC_000083.5:LOC100040603;Parent=XM_001475631.1,\\nchr17,RefSeq,five_prime_UTR,6806513,6806526,.,+,.,Parent=XM_001475631.1\\nchr17,RefSeq,exon,6797760,6797769,.,+,.,Parent=XM_001475631.1\\nchr17,RefSeq,CDS,6811330,6811453,.,+,0,Name=CDS:NC_000083.5:LOC100040603;Parent=XM_001475631.1,\\nchr17,RefSeq,three_prime_UTR,6812290,6818159,.,+,.,Parent=XM_001475631.1\\nchr17,RefSeq,CDS,6811792,6811869,.,+,2,Name=CDS:NC_000083.5:LOC100040603;Parent=XM_001475631.1,\\nchr17,RefSeq,CDS,6811330,6811453,.,+,0,Name=CDS:NC_000083.5:LOC100040603;Parent=XM_001475631.1,\\nchr17,RefSeq,three_prime_UTR,6812290,6818159,.,+,.,Parent=XM_001475631.1\\nchr17,RefSeq,CDS,6811792,6811869,.,+,2,Name=CDS:NC_000083.5:LOC100040603;Parent=XM_001475631.1,\\nchr17,RefSeq,exon,6797760,6797769,.,+,.,Parent=XM_001475631.1\\nchr17,RefSeq,CDS,6808204,6808245,.,+,0,Name=CDS:NC_000083.5:LOC100040603;Parent=XM_001475631.1,\\nchr17,RefSeq,exon,6812219,6818159,.,+,.,Parent=XM_001475631.1\\nchr17,RefSeq,exon,6808204,6808245,.,+,.,Parent=XM_001475631.1\\nchr17,RefSeq,CDS,6808204,6808245,.,+,0,Name=CDS:NC_000083.5:LOC100040603;Parent=XM_001475631.1,\\nchr17,RefSeq,exon,6811792,6811869,.,+,.,Parent=XM_001475631.1\\nchr17,RefSeq,five_prime_UTR,6797760,6797769,.,+,.,Parent=XM_001475631.1\\nchr17,RefSeq,CDS,6812219,6812289,.,+,2,Name=CDS:NC_000083.5:LOC100040603;Parent=XM_001475631.1,\\nchr17,RefSeq,CDS,6806527,6806553,.,+,0,Name=CDS:NC_000083.5:LOC100040603;Parent=XM_001475631.1,\\nchr17,RefSeq,five_prime_UTR,6797760,6797769,.,+,.,Parent=XM_001475631.1\\nchr17,RefSeq,CDS,6811792,6811869,.,+,2,Name=CDS:NC_000083.5:LOC100040603;Parent=XM_001475631.1,\\nchr17,RefSeq,exon,6812219,6818159,.,+,.,Parent=XM_001475631.1\\nchr17,RefSeq,CDS,6808204,6808245,.,+,0,Name=CDS:NC_000083.5:LOC100040603;Parent=XM_001475631.1,\\nchr17,RefSeq,exon,6811792,6811869,.,+,.,Parent=XM_001475631.1\\nchr17,RefSeq,exon,6808204,6808245,.,+,.,Parent=XM_001475631.1\\nchr17,RefSeq,exon,6806513,6806553,.,+,.,Parent=XM_001475631.1\\nchr17,RefSeq,exon,6811792,6811869,.,+,.,Parent=XM_001475631.1\\nchr17,RefSeq,CDS,6811330,6811453,.,+,0,Name=CDS:NC_000083.5:LOC100040603;Parent=XM_001475631.1,\\nchr17,RefSeq,CDS,6811792,6811869,.,+,2,Name=CDS:NC_000083.5:LOC100040603;Parent=XM_001475631.1,\\nchr17,RefSeq,mRNA,6797760,6818159,.,+,.,ID=XM_001475631.1;Parent=NC_000083.5:LOC100040603\\nchr17,RefSeq,CDS,6811792,6811869,.,+,2,Name=CDS:NC_000083.5:LOC100040603;Parent=XM_001475631.1,\\nchr17,RefSeq,CDS,6812219,6812289,.,+,2,Name=CDS:NC_000083.5:LOC100040603;Parent=XM_001475631.1,\\nchr17,RefSeq,CDS,6808204,6808245,.,+,0,Name=CDS:NC_000083.5:LOC100040603;Parent=XM_001475631.1,\\nchr17,RefSeq,exon,6806513,6806553,.,+,.,Parent=XM_001475631.1\\nchr17,RefSeq,exon,6811792,6811869,.,+,.,Parent=XM_001475631.1\\nchr17,RefSeq,CDS,6808204,6808245,.,+,0,Name=CDS:NC_000083.5:LOC100040603;Parent=XM_001475631.1,\\nchr17,RefSeq,CDS,6812219,6812289,.,+,2,Name=CDS:NC_000083.5:LOC100040603;Parent=XM_001475631.1,\\nchr17,RefSeq,CDS,6812219,6812289,.,+,2,Name=CDS:NC_000083.5:LOC100040603;Parent=XM_001475631.1,\\nchr17,RefSeq,three_prime_UTR,6812290,6818159,.,+,.,Parent=XM_001475631.1\\nchr17,RefSeq,protein,6806527,6812289,.,+,.,ID=;Parent=XM_001475631.1\\nchr17,RefSeq,CDS,6806527,6806553,.,+,0,Name=CDS:NC_000083.5:LOC100040603;Parent=XM_001475631.1,\\nchr17,RefSeq,CDS,6812219,6812289,.,+,2,Name=CDS:NC_000083.5:LOC100040603;Parent=XM_001475631.1,\\nchr17,RefSeq,five_prime_UTR,6806513,6806526,.,+,.,Parent=XM_001475631.1\\nchr17,RefSeq,CDS,6812219,6812289,.,+,2,Name=CDS:NC_000083.5:LOC100040603;Parent=XM_001475631.1,\\nchr17,RefSeq,CDS,6811792,6811869,.,+,2,Name=CDS:NC_000083.5:LOC100040603;Parent=XM_001475631.1,\\nchr17,RefSeq,three_prime_UTR,6812290,6818159,.,+,.,Parent=XM_001475631.1\\nchr17,RefSeq,exon,6806513,6806553,.,+,.,Parent=XM_001475631.1\\nchr17,RefSeq,CDS,6811330,6811453,.,+,0,Name=CDS:NC_000083.5:LOC100040603;Parent=XM_001475631.1,\\nchr17,RefSeq,exon,6808204,6808245,.,+,.,Parent=XM_001475631.1\\nchr17,RefSeq,exon,6797760,6797769,.,+,.,Parent=XM_001475631.1\\nchr17,RefSeq,three_prime_UTR,6812290,6818159,.,+,.,Parent=XM_001475631.1\\nchr17,RefSeq,exon,6808204,6808245,.,+,.,Parent=XM_001475631.1\\nchr17,RefSeq,exon,6812219,6818159,.,+,.,Parent=XM_001475631.1\\nchr17,RefSeq,CDS,6808204,6808245,.,+,0,Name=CDS:NC_000083.5:LOC100040603;Parent=XM_001475631.1,\\nchr17,RefSeq,exon,6797760,6797769,.,+,.,Parent=XM_001475631.1\\nchr17,RefSeq,protein,6806527,6812289,.,+,.,ID=;Parent=XM_001475631.1\\nchr17,RefSeq,CDS,6808204,6808245,.,+,0,Name=CDS:NC_000083.5:LOC100040603;Parent=XM_001475631.1,\\nchr17,RefSeq,exon,6797760,6797769,.,+,.,Parent=XM_001475631.1\\nchr17,RefSeq,five_prime_UTR,6806513,6806526,.,+,.,Parent=XM_001475631.1\\nchr17,RefSeq,exon,6811792,6811869,.,+,.,Parent=XM_001475631.1\\nchr17,RefSeq,CDS,6806527,6806553,.,+,0,Name=CDS:NC_000083.5:LOC100040603;Parent=XM_001475631.1,\\nchr17,RefSeq,exon,6812219,6818159,.,+,.,Parent=XM_001475631.1\\nchr17,RefSeq,CDS,6806527,6806553,.,+,0,Name=CDS:NC_000083.5:LOC100040603;Parent=XM_001475631.1,\\nchr17,RefSeq,three_prime_UTR,6812290,6818159,.,+,.,Parent=XM_001475631.1\\nchr17,RefSeq,CDS,6811792,6811869,.,+,2,Name=CDS:NC_000083.5:LOC100040603;Parent=XM_001475631.1,\\nchr17,RefSeq,exon,6797760,6797769,.,+,.,Parent=XM_001475631.1\\nchr17,RefSeq,exon,6811792,6811869,.,+,.,Parent=XM_001475631.1\\nchr17,RefSeq,protein,6806527,6812289,.,+,.,ID=;Parent=XM_001475631.1\\nchr17,RefSeq,CDS,6811792,6811869,.,+,2,Name=CDS:NC_000083.5:LOC100040603;Parent=XM_001475631.1,\\nchr17,RefSeq,five_prime_UTR,6797760,6797769,.,+,.,Parent=XM_001475631.1\\nchr17,RefSeq,exon,6797760,6797769,.,+,.,Parent=XM_001475631.1\\nchr17,RefSeq,CDS,6808204,6808245,.,+,0,Name=CDS:NC_000083.5:LOC100040603;Parent=XM_001475631.1,\\nchr17,RefSeq,CDS,6812219,6812289,.,+,2,Name=CDS:NC_000083.5:LOC100040603;Parent=XM_001475631.1,\\nchr17,RefSeq,CDS,6806527,6806553,.,+,0,Name=CDS:NC_000083.5:LOC100040603;Parent=XM_001475631.1,\\nchr17,RefSeq,exon,6806513,6806553,.,+,.,Parent=XM_001475631.1\\nchr17,RefSeq,CDS,6811330,6811453,.,+,0,Name=CDS:NC_000083.5:LOC100040603;Parent=XM_001475631.1,\\nchr17,RefSeq,exon,6808204,6808245,.,+,.,Parent=XM_001475631.1\\nchr17,RefSeq,CDS,6811330,6811453,.,+,0,Name=CDS:NC_000083.5:LOC100040603;Parent=XM_001475631.1,\\nchr17,RefSeq,exon,6812219,6818159,.,+,.,Parent=XM_001475631.1\\nchr17,RefSeq,exon,6812219,6818159,.,+,.,Parent=XM_001475631.1\\nchr17,RefSeq,exon,6812219,6818159,.,+,.,Parent=XM_001475631.1\\nchr17,RefSeq,CDS,6806527,6806553,.,+,0,Name=CDS:NC_000083.5:LOC100040603;Parent=XM_001475631.1,\\nchr17,RefSeq,three_prime_UTR,6812290,6818159,.,+,.,Parent=XM_001475631.1\\nchr17,RefSeq,exon,6806513,6806553,.,+,.,Parent=XM_001475631.1\\nchr17,RefSeq,exon,6806513,6806553,.,+,.,Parent=XM_001475631.1\\nchr17,RefSeq,exon,6811792,6811869,.,+,.,Parent=XM_001475631.1\\nchr17,RefSeq,CDS,6808204,6808245,.,+,0,Name=CDS:NC_000083.5:LOC100040603;Parent=XM_001475631.1,\\nchr17,RefSeq,protein,6806527,6812289,.,+,.,ID=;Parent=XM_001475631.1\\nchr17,RefSeq,CDS,6806527,6806553,.,+,0,Name=CDS:NC_000083.5:LOC100040603;Parent=XM_001475631.1,\\nchr17,RefSeq,exon,6811330,6811453,.,+,.,Parent=XM_001475631.1\\nchr17,RefSeq,three_prime_UTR,6812290,6818159,.,+,.,Parent=XM_001475631.1\\nchr17,RefSeq,CDS,6812219,6812289,.,+,2,Name=CDS:NC_000083.5:LOC100040603;Parent=XM_001475631.1,\\nchr17,RefSeq,CDS,6808204,6808245,.,+,0,Name=CDS:NC_000083.5:LOC100040603;Parent=XM_001475631.1,\\nchr17,RefSeq,CDS,6812219,6812289,.,+,2,Name=CDS:NC_000083.5:LOC100040603;Parent=XM_001475631.1,\\nchr17,RefSeq,protein,6806527,6812289,.,+,.,ID=;Parent=XM_001475631.1\\nchr17,RefSeq,mRNA,6797760,6818159,.,+,.,ID=XM_001475631.1;Parent=NC_000083.5:LOC100040603\\nchr17,RefSeq,exon,6797760,6797769,.,+,.,Parent=XM_001475631.1\\nchr17,RefSeq,CDS,6811792,6811869,.,+,2,Name=CDS:NC_000083.5:LOC100040603;Parent=XM_001475631.1,\\nchr17,RefSeq,exon,6812219,6818159,.,+,.,Parent=XM_001475631.1\\nchr17,RefSeq,exon,6811792,6811869,.,+,.,Parent=XM_001475631.1\\nchr17,RefSeq,exon,6808204,6808245,.,+,.,Parent=XM_001475631.1\\nchr17,RefSeq,three_prime_UTR,6812290,6818159,.,+,.,Parent=XM_001475631.1\\nchr17,RefSeq,exon,6811792,6811869,.,+,.,Parent=XM_001475631.1\\nchr17,RefSeq,exon,6811330,6811453,.,+,.,Parent=XM_001475631.1\\nchr17,RefSeq,three_prime_UTR,6812290,6818159,.,+,.,Parent=XM_001475631.1\\nchr17,RefSeq,CDS,6806527,6806553,.,+,0,Name=CDS:NC_000083.5:LOC100040603;Parent=XM_001475631.1,\\nchr17,RefSeq,mRNA,6797760,6818159,.,+,.,ID=XM_001475631.1;Parent=NC_000083.5:LOC100040603\\nchr17,RefSeq,protein,6806527,6812289,.,+,.,ID=;Parent=XM_001475631.1\\nchr17,RefSeq,CDS,6811792,6811869,.,+,2,Name=CDS:NC_000083.5:LOC100040603;Parent=XM_001475631.1,\\nchr17,RefSeq,exon,6808204,6808245,.,+,.,Parent=XM_001475631.1\\nchr17,RefSeq,exon,6806513,6806553,.,+,.,Parent=XM_001475631.1\\nchr17,RefSeq,mRNA,6797760,6818159,.,+,.,ID=XM_001475631.1;Parent=NC_000083.5:LOC100040603\\nchr17,RefSeq,three_prime_UTR,6812290,6818159,.,+,.,Parent=XM_001475631.1\\nchr17,RefSeq,exon,6806513,6806553,.,+,.,Parent=XM_001475631.1\\nchr17,RefSeq,CDS,6811792,6811869,.,+,2,Name=CDS:NC_000083.5:LOC100040603;Parent=XM_001475631.1,\\nchr17,RefSeq,five_prime_UTR,6797760,6797769,.,+,.,Parent=XM_001475631.1\\nchr17,RefSeq,exon,6811792,6811869,.,+,.,Parent=XM_001475631.1\\nchr17,RefSeq,exon,6806513,6806553,.,+,.,Parent=XM_001475631.1\\nchr17,RefSeq,protein,6806527,6812289,.,+,.,ID=;Parent=XM_001475631.1\\nchr17,RefSeq,CDS,6811792,6811869,.,+,2,Name=CDS:NC_000083.5:LOC100040603;Parent=XM_001475631.1,\\nchr17,RefSeq,mRNA,6797760,6818159,.,+,.,ID=XM_001475631.1;Parent=NC_000083.5:LOC100040603\\nchr17,RefSeq,five_prime_UTR,6797760,6797769,.,+,.,Parent=XM_001475631.1\\nchr17,RefSeq,exon,6808204,6808245,.,+,.,Parent=XM_001475631.1\\nchr17,RefSeq,exon,6811792,6811869,.,+,.,Parent=XM_001475631.1\\nchr17,RefSeq,exon,6797760,6797769,.,+,.,Parent=XM_001475631.1\\nchr17,RefSeq,three_prime_UTR,6812290,6818159,.,+,.,Parent=XM_001475631.1\\nchr17,RefSeq,exon,6811792,6811869,.,+,.,Parent=XM_001475631.1\\nchr17,RefSeq,CDS,6811330,6811453,.,+,0,Name=CDS:NC_000083.5:LOC100040603;Parent=XM_001475631.1,\\nchr17,RefSeq,exon,6811792,6811869,.,+,.,Parent=XM_001475631.1\\nchr17,RefSeq,exon,6812219,6818159,.,+,.,Parent=XM_001475631.1\\nchr17,RefSeq,exon,6808204,6808245,.,+,.,Parent=XM_001475631.1\\nchr17,RefSeq,CDS,6812219,6812289,.,+,2,Name=CDS:NC_000083.5:LOC100040603;Parent=XM_001475631.1,\\nchr17,RefSeq,three_prime_UTR,6812290,6818159,.,+,.,Parent=XM_001475631.1\\nchr17,RefSeq,CDS,6808204,6808245,.,+,0,Name=CDS:NC_000083.5:LOC100040603;Parent=XM_001475631.1,\\nchr17,RefSeq,exon,6812219,6818159,.,+,.,Parent=XM_001475631.1\\nchr17,RefSeq,mRNA,6797760,6818159,.,+,.,ID=XM_001475631.1;Parent=NC_000083.5:LOC100040603\\nchr17,RefSeq,exon,6811792,6811869,.,+,.,Parent=XM_001475631.1\\nchr17,RefSeq,CDS,6811330,6811453,.,+,0,Name=CDS:NC_000083.5:LOC100040603;Parent=XM_001475631.1,\\nchr17,RefSeq,exon,6811792,6811869,.,+,.,Parent=XM_001475631.1\\nchr17,RefSeq,exon,6812219,6818159,.,+,.,Parent=XM_001475631.1\\nchr17,RefSeq,exon,6808204,6808245,.,+,.,Parent=XM_001475631.1\\nchr17,RefSeq,five_prime_UTR,6806513,6806526,.,+,.,Parent=XM_001475631.1\\nchr17,RefSeq,mRNA,6797760,6818159,.,+,.,ID=XM_001475631.1;Parent=NC_000083.5:LOC100040603\\nchr17,RefSeq,CDS,6812219,6812289,.,+,2,Name=CDS:NC_000083.5:LOC100040603;Parent=XM_001475631.1,\\nchr17,RefSeq,five_prime_UTR,6797760,6797769,.,+,.,Parent=XM_001475631.1\\nchr17,RefSeq,exon,6797760,6797769,.,+,.,Parent=XM_001475631.1\\nchr17,RefSeq,CDS,6806527,6806553,.,+,0,Name=CDS:NC_000083.5:LOC100040603;Parent=XM_001475631.1,\\nchr17,RefSeq,CDS,6808204,6808245,.,+,0,Name=CDS:NC_000083.5:LOC100040603;Parent=XM_001475631.1,\\nchr17,RefSeq,protein,6806527,6812289,.,+,.,ID=;Parent=XM_001475631.1\\nchr17,RefSeq,exon,6806513,6806553,.,+,.,Parent=XM_001475631.1\\nchr17,RefSeq,exon,6808204,6808245,.,+,.,Parent=XM_001475631.1\\nchr17,RefSeq,five_prime_UTR,6806513,6806526,.,+,.,Parent=XM_001475631.1\\nchr17,RefSeq,exon,6812219,6818159,.,+,.,Parent=XM_001475631.1\\nchr17,RefSeq,five_prime_UTR,6797760,6797769,.,+,.,Parent=XM_001475631.1\\nchr17,RefSeq,CDS,6812219,6812289,.,+,2,Name=CDS:NC_000083.5:LOC100040603;Parent=XM_001475631.1,\\nchr17,RefSeq,exon,6797760,6797769,.,+,.,Parent=XM_001475631.1\\nchr17,RefSeq,protein,6806527,6812289,.,+,.,ID=;Parent=XM_001475631.1\\nchr17,RefSeq,protein,6806527,6812289,.,+,.,ID=;Parent=XM_001475631.1\\nchr17,RefSeq,three_prime_UTR,6812290,6818159,.,+,.,Parent=XM_001475631.1\\nchr17,RefSeq,mRNA,6797760,6818159,.,+,.,ID=XM_001475631.1;Parent=NC_000083.5:LOC100040603\\nchr17,RefSeq,CDS,6811792,6811869,.,+,2,Name=CDS:NC_000083.5:LOC100040603;Parent=XM_001475631.1,\\nchr17,RefSeq,CDS,6808204,6808245,.,+,0,Name=CDS:NC_000083.5:LOC100040603;Parent=XM_001475631.1,\\nchr17,RefSeq,exon,6806513,6806553,.,+,.,Parent=XM_001475631.1\\nchr17,RefSeq,mRNA,6797760,6818159,.,+,.,ID=XM_001475631.1;Parent=NC_000083.5:LOC100040603\\nchr17,RefSeq,protein,6806527,6812289,.,+,.,ID=;Parent=XM_001475631.1\\nchr17,RefSeq,CDS,6811792,6811869,.,+,2,Name=CDS:NC_000083.5:LOC100040603;Parent=XM_001475631.1,\\nchr17,RefSeq,CDS,6812219,6812289,.,+,2,Name=CDS:NC_000083.5:LOC100040603;Parent=XM_001475631.1,\\nchr17,RefSeq,exon,6811792,6811869,.,+,.,Parent=XM_001475631.1\\nchr17,RefSeq,exon,6811330,6811453,.,+,.,Parent=XM_001475631.1\\nchr17,RefSeq,five_prime_UTR,6797760,6797769,.,+,.,Parent=XM_001475631.1\\nchr17,RefSeq,CDS,6806527,6806553,.,+,0,Name=CDS:NC_000083.5:LOC100040603;Parent=XM_001475631.1,\\nchr17,RefSeq,CDS,6806527,6806553,.,+,0,Name=CDS:NC_000083.5:LOC100040603;Parent=XM_001475631.1,\\nchr17,RefSeq,exon,6811792,6811869,.,+,.,Parent=XM_001475631.1\\nchr17,RefSeq,exon,6797760,6797769,.,+,.,Parent=XM_001475631.1\\nchr17,RefSeq,exon,6811792,6811869,.,+,.,Parent=XM_001475631.1\\nchr17,RefSeq,five_prime_UTR,6806513,6806526,.,+,.,Parent=XM_001475631.1\\nchr17,RefSeq,five_prime_UTR,6806513,6806526,.,+,.,Parent=XM_001475631.1\\nchr17,RefSeq,CDS,6806527,6806553,.,+,0,Name=CDS:NC_000083.5:LOC100040603;Parent=XM_001475631.1,\\nchr17,RefSeq,exon,6811330,6811453,.,+,.,Parent=XM_001475631.1\\nchr17,RefSeq,CDS,6806527,6806553,.,+,0,Name=CDS:NC_000083.5:LOC100040603;Parent=XM_001475631.1,\\nchr17,RefSeq,CDS,6808204,6808245,.,+,0,Name=CDS:NC_000083.5:LOC100040603;Parent=XM_001475631.1,\\nchr17,RefSeq,five_prime_UTR,6806513,6806526,.,+,.,Parent=XM_001475631.1\\nchr17,RefSeq,CDS,6811792,6811869,.,+,2,Name=CDS:NC_000083.5:LOC100040603;Parent=XM_001475631.1,\\nchr17,RefSeq,CDS,6812219,6812289,.,+,2,Name=CDS:NC_000083.5:LOC100040603;Parent=XM_001475631.1,\\nchr17,RefSeq,exon,6811792,6811869,.,+,.,Parent=XM_001475631.1\\nchr17,RefSeq,exon,6797760,6797769,.,+,.,Parent=XM_001475631.1\\nchr17,RefSeq,five_prime_UTR,6806513,6806526,.,+,.,Parent=XM_001475631.1\\nchr17,RefSeq,CDS,6808204,6808245,.,+,0,Name=CDS:NC_000083.5:LOC100040603;Parent=XM_001475631.1,\\nchr17,RefSeq,CDS,6811792,6811869,.,+,2,Name=CDS:NC_000083.5:LOC100040603;Parent=XM_001475631.1,\\nchr17,RefSeq,CDS,6806527,6806553,.,+,0,Name=CDS:NC_000083.5:LOC100040603;Parent=XM_001475631.1,\\nchr17,RefSeq,CDS,6811792,6811869,.,+,2,Name=CDS:NC_000083.5:LOC100040603;Parent=XM_001475631.1,\\nchr17,RefSeq,exon,6806513,6806553,.,+,.,Parent=XM_001475631.1\\nchr17,RefSeq,CDS,6811330,6811453,.,+,0,Name=CDS:NC_000083.5:LOC100040603;Parent=XM_001475631.1,\\nchr17,RefSeq,protein,6806527,6812289,.,+,.,ID=;Parent=XM_001475631.1\\nchr17,RefSeq,CDS,6811792,6811869,.,+,2,Name=CDS:NC_000083.5:LOC100040603;Parent=XM_001475631.1,\\nchr17,RefSeq,CDS,6811330,6811453,.,+,0,Name=CDS:NC_000083.5:LOC100040603;Parent=XM_001475631.1,\\nchr17,RefSeq,CDS,6811792,6811869,.,+,2,Name=CDS:NC_000083.5:LOC100040603;Parent=XM_001475631.1,\\nchr17,RefSeq,exon,6797760,6797769,.,+,.,Parent=XM_001475631.1\\nchr17,RefSeq,mRNA,6797760,6818159,.,+,.,ID=XM_001475631.1;Parent=NC_000083.5:LOC100040603\\nchr17,RefSeq,exon,6811330,6811453,.,+,.,Parent=XM_001475631.1\\nchr17,RefSeq,CDS,6812219,6812289,.,+,2,Name=CDS:NC_000083.5:LOC100040603;Parent=XM_001475631.1,\\nchr17,RefSeq,five_prime_UTR,6806513,6806526,.,+,.,Parent=XM_001475631.1\\nchr17,RefSeq,protein,6806527,6812289,.,+,.,ID=;Parent=XM_001475631.1\\nchr17,RefSeq,CDS,6808204,6808245,.,+,0,Name=CDS:NC_000083.5:LOC100040603;Parent=XM_001475631.1,\\nchr17,RefSeq,five_prime_UTR,6806513,6806526,.,+,.,Parent=XM_001475631.1\\nchr17,RefSeq,exon,6808204,6808245,.,+,.,Parent=XM_001475631.1\\nchr17,RefSeq,five_prime_UTR,6797760,6797769,.,+,.,Parent=XM_001475631.1\\nchr17,RefSeq,five_prime_UTR,6797760,6797769,.,+,.,Parent=XM_001475631.1\\nchr17,RefSeq,three_prime_UTR,6812290,6818159,.,+,.,Parent=XM_001475631.1\\nchr17,RefSeq,CDS,6811330,6811453,.,+,0,Name=CDS:NC_000083.5:LOC100040603;Parent=XM_001475631.1,\\nchr17,RefSeq,exon,6811330,6811453,.,+,.,Parent=XM_001475631.1\\nchr17,RefSeq,exon,6808204,6808245,.,+,.,Parent=XM_001475631.1\\nchr17,RefSeq,exon,6808204,6808245,.,+,.,Parent=XM_001475631.1\\nchr17,RefSeq,exon,6806513,6806553,.,+,.,Parent=XM_001475631.1\\nchr17,RefSeq,CDS,6811330,6811453,.,+,0,Name=CDS:NC_000083.5:LOC100040603;Parent=XM_001475631.1,\\nchr17,RefSeq,mRNA,6797760,6818159,.,+,.,ID=XM_001475631.1;Parent=NC_000083.5:LOC100040603\\nchr17,RefSeq,exon,6812219,6818159,.,+,.,Parent=XM_001475631.1\\nchr17,RefSeq,CDS,6811792,6811869,.,+,2,Name=CDS:NC_000083.5:LOC100040603;Parent=XM_001475631.1,\\nchr17,RefSeq,exon,6797760,6797769,.,+,.,Parent=XM_001475631.1\\nchr17,RefSeq,CDS,6812219,6812289,.,+,2,Name=CDS:NC_000083.5:LOC100040603;Parent=XM_001475631.1,\\nchr17,RefSeq,exon,6808204,6808245,.,+,.,Parent=XM_001475631.1\\nchr17,RefSeq,exon,6806513,6806553,.,+,.,Parent=XM_001475631.1\\nchr17,RefSeq,exon,6808204,6808245,.,+,.,Parent=XM_001475631.1\\nchr17,RefSeq,exon,6797760,6797769,.,+,.,Parent=XM_001475631.1\\nchr17,RefSeq,mRNA,6797760,6818159,.,+,.,ID=XM_001475631.1;Parent=NC_000083.5:LOC100040603\\nchr17,RefSeq,exon,6806513,6806553,.,+,.,Parent=XM_001475631.1\\nchr17,RefSeq,protein,6806527,6812289,.,+,.,ID=;Parent=XM_001475631.1\\nchr17,RefSeq,mRNA,6797760,6818159,.,+,.,ID=XM_001475631.1;Parent=NC_000083.5:LOC100040603\\nchr17,RefSeq,exon,6811792,6811869,.,+,.,Parent=XM_001475631.1\\nchr17,RefSeq,CDS,6812219,6812289,.,+,2,Name=CDS:NC_000083.5:LOC100040603;Parent=XM_001475631.1,\\nchr17,RefSeq,five_prime_UTR,6797760,6797769,.,+,.,Parent=XM_001475631.1\\nchr17,RefSeq,CDS,6811330,6811453,.,+,0,Name=CDS:NC_000083.5:LOC100040603;Parent=XM_001475631.1,\\nchr17,RefSeq,exon,6811330,6811453,.,+,.,Parent=XM_001475631.1\\nchr17,RefSeq,CDS,6808204,6808245,.,+,0,Name=CDS:NC_000083.5:LOC100040603;Parent=XM_001475631.1,\\nchr17,RefSeq,exon,6811792,6811869,.,+,.,Parent=XM_001475631.1\\nchr17,RefSeq,CDS,6812219,6812289,.,+,2,Name=CDS:NC_000083.5:LOC100040603;Parent=XM_001475631.1,\\nchr17,RefSeq,exon,6806513,6806553,.,+,.,Parent=XM_001475631.1\\nchr17,RefSeq,exon,6811330,6811453,.,+,.,Parent=XM_001475631.1\\nchr17,RefSeq,CDS,6811792,6811869,.,+,2,Name=CDS:NC_000083.5:LOC100040603;Parent=XM_001475631.1,\\nchr17,RefSeq,protein,6806527,6812289,.,+,.,ID=;Parent=XM_001475631.1\\nchr17,RefSeq,five_prime_UTR,6806513,6806526,.,+,.,Parent=XM_001475631.1\\nchr17,RefSeq,CDS,6806527,6806553,.,+,0,Name=CDS:NC_000083.5:LOC100040603;Parent=XM_001475631.1,\\nchr17,RefSeq,CDS,6811330,6811453,.,+,0,Name=CDS:NC_000083.5:LOC100040603;Parent=XM_001475631.1,\\nchr17,RefSeq,exon,6797760,6797769,.,+,.,Parent=XM_001475631.1\\nchr17,RefSeq,exon,6797760,6797769,.,+,.,Parent=XM_001475631.1\\nchr17,RefSeq,mRNA,6797760,6818159,.,+,.,ID=XM_001475631.1;Parent=NC_000083.5:LOC100040603\\nchr17,RefSeq,CDS,6811792,6811869,.,+,2,Name=CDS:NC_000083.5:LOC100040603;Parent=XM_001475631.1,\\nchr17,RefSeq,CDS,6808204,6808245,.,+,0,Name=CDS:NC_000083.5:LOC100040603;Parent=XM_001475631.1,\\nchr17,RefSeq,exon,6797760,6797769,.,+,.,Parent=XM_001475631.1\\nchr17,RefSeq,CDS,6808204,6808245,.,+,0,Name=CDS:NC_000083.5:LOC100040603;Parent=XM_001475631.1,\\nchr17,RefSeq,three_prime_UTR,6812290,6818159,.,+,.,Parent=XM_001475631.1\\nchr17,RefSeq,CDS,6806527,6806553,.,+,0,Name=CDS:NC_000083.5:LOC100040603;Parent=XM_001475631.1,\\nchr17,RefSeq,exon,6797760,6797769,.,+,.,Parent=XM_001475631.1\\nchr17,RefSeq,CDS,6811792,6811869,.,+,2,Name=CDS:NC_000083.5:LOC100040603;Parent=XM_001475631.1,\\nchr17,RefSeq,CDS,6806527,6806553,.,+,0,Name=CDS:NC_000083.5:LOC100040603;Parent=XM_001475631.1,\\nchr17,RefSeq,protein,6806527,6812289,.,+,.,ID=;Parent=XM_001475631.1\\nchr17,RefSeq,CDS,6812219,6812289,.,+,2,Name=CDS:NC_000083.5:LOC100040603;Parent=XM_001475631.1,\\nchr17,RefSeq,five_prime_UTR,6806513,6806526,.,+,.,Parent=XM_001475631.1\\nchr17,RefSeq,exon,6811792,6811869,.,+,.,Parent=XM_001475631.1\\nchr17,RefSeq,protein,6806527,6812289,.,+,.,ID=;Parent=XM_001475631.1\\nchr17,RefSeq,exon,6811330,6811453,.,+,.,Parent=XM_001475631.1\\nchr17,RefSeq,exon,6808204,6808245,.,+,.,Parent=XM_001475631.1\\nchr17,RefSeq,exon,6797760,6797769,.,+,.,Parent=XM_001475631.1\\nchr17,RefSeq,exon,6806513,6806553,.,+,.,Parent=XM_001475631.1\\nchr17,RefSeq,CDS,6808204,6808245,.,+,0,Name=CDS:NC_000083.5:LOC100040603;Parent=XM_001475631.1,\\nchr17,RefSeq,CDS,6806527,6806553,.,+,0,Name=CDS:NC_000083.5:LOC100040603;Parent=XM_001475631.1,\\nchr17,RefSeq,exon,6811330,6811453,.,+,.,Parent=XM_001475631.1\\nchr17,RefSeq,exon,6808204,6808245,.,+,.,Parent=XM_001475631.1\\nchr17,RefSeq,mRNA,6797760,6818159,.,+,.,ID=XM_001475631.1;Parent=NC_000083.5:LOC100040603\\nchr17,RefSeq,exon,6811792,6811869,.,+,.,Parent=XM_001475631.1\\nchr17,RefSeq,protein,6806527,6812289,.,+,.,ID=;Parent=XM_001475631.1\\nchr17,RefSeq,exon,6811330,6811453,.,+,.,Parent=XM_001475631.1\\nchr17,RefSeq,five_prime_UTR,6797760,6797769,.,+,.,Parent=XM_001475631.1\\nchr17,RefSeq,CDS,6806527,6806553,.,+,0,Name=CDS:NC_000083.5:LOC100040603;Parent=XM_001475631.1,\\nchr17,RefSeq,exon,6812219,6818159,.,+,.,Parent=XM_001475631.1\\nchr17,RefSeq,CDS,6812219,6812289,.,+,2,Name=CDS:NC_000083.5:LOC100040603;Parent=XM_001475631.1,\\nchr17,RefSeq,exon,6808204,6808245,.,+,.,Parent=XM_001475631.1\\nchr17,RefSeq,five_prime_UTR,6797760,6797769,.,+,.,Parent=XM_001475631.1\\nchr17,RefSeq,exon,6797760,6797769,.,+,.,Parent=XM_001475631.1\\nchr17,RefSeq,exon,6812219,6818159,.,+,.,Parent=XM_001475631.1\\nchr17,RefSeq,protein,6806527,6812289,.,+,.,ID=;Parent=XM_001475631.1\\nchr17,RefSeq,CDS,6811792,6811869,.,+,2,Name=CDS:NC_000083.5:LOC100040603;Parent=XM_001475631.1,\\nchr17,RefSeq,five_prime_UTR,6797760,6797769,.,+,.,Parent=XM_001475631.1\\nchr17,RefSeq,mRNA,6797760,6818159,.,+,.,ID=XM_001475631.1;Parent=NC_000083.5:LOC100040603\\nchr17,RefSeq,five_prime_UTR,6797760,6797769,.,+,.,Parent=XM_001475631.1\\nchr17,RefSeq,CDS,6808204,6808245,.,+,0,Name=CDS:NC_000083.5:LOC100040603;Parent=XM_001475631.1,\\nchr17,RefSeq,exon,6811792,6811869,.,+,.,Parent=XM_001475631.1\\nchr17,RefSeq,protein,6806527,6812289,.,+,.,ID=;Parent=XM_001475631.1\\nchr17,RefSeq,CDS,6808204,6808245,.,+,0,Name=CDS:NC_000083.5:LOC100040603;Parent=XM_001475631.1,\\nchr17,RefSeq,mRNA,6797760,6818159,.,+,.,ID=XM_001475631.1;Parent=NC_000083.5:LOC100040603\\nchr17,RefSeq,three_prime_UTR,6812290,6818159,.,+,.,Parent=XM_001475631.1\\nchr17,RefSeq,exon,6811792,6811869,.,+,.,Parent=XM_001475631.1\\nchr17,RefSeq,exon,6797760,6797769,.,+,.,Parent=XM_001475631.1\\nchr17,RefSeq,exon,6811792,6811869,.,+,.,Parent=XM_001475631.1\\nchr17,RefSeq,CDS,6812219,6812289,.,+,2,Name=CDS:NC_000083.5:LOC100040603;Parent=XM_001475631.1,\\nchr17,RefSeq,CDS,6812219,6812289,.,+,2,Name=CDS:NC_000083.5:LOC100040603;Parent=XM_001475631.1,\\nchr17,RefSeq,exon,6811330,6811453,.,+,.,Parent=XM_001475631.1\\nchr17,RefSeq,exon,6797760,6797769,.,+,.,Parent=XM_001475631.1\\nchr17,RefSeq,CDS,6811330,6811453,.,+,0,Name=CDS:NC_000083.5:LOC100040603;Parent=XM_001475631.1,\\nchr17,RefSeq,exon,6812219,6818159,.,+,.,Parent=XM_001475631.1\\nchr17,RefSeq,CDS,6812219,6812289,.,+,2,Name=CDS:NC_000083.5:LOC100040603;Parent=XM_001475631.1,\\nchr17,RefSeq,exon,6812219,6818159,.,+,.,Parent=XM_001475631.1\\nchr17,RefSeq,exon,6806513,6806553,.,+,.,Parent=XM_001475631.1\\nchr17,RefSeq,CDS,6806527,6806553,.,+,0,Name=CDS:NC_000083.5:LOC100040603;Parent=XM_001475631.1,\\nchr17,RefSeq,exon,6811792,6811869,.,+,.,Parent=XM_001475631.1\\nchr17,RefSeq,CDS,6812219,6812289,.,+,2,Name=CDS:NC_000083.5:LOC100040603;Parent=XM_001475631.1,\\nchr17,RefSeq,CDS,6811330,6811453,.,+,0,Name=CDS:NC_000083.5:LOC100040603;Parent=XM_001475631.1,\\nchr17,RefSeq,exon,6806513,6806553,.,+,.,Parent=XM_001475631.1\\nchr17,RefSeq,exon,6808204,6808245,.,+,.,Parent=XM_001475631.1\\nchr17,RefSeq,exon,6812219,6818159,.,+,.,Parent=XM_001475631.1\\nchr17,RefSeq,CDS,6811792,6811869,.,+,2,Name=CDS:NC_000083.5:LOC100040603;Parent=XM_001475631.1,\\nchr17,RefSeq,mRNA,6797760,6818159,.,+,.,ID=XM_001475631.1;Parent=NC_000083.5:LOC100040603\\nchr17,RefSeq,protein,6806527,6812289,.,+,.,ID=;Parent=XM_001475631.1\\nchr17,RefSeq,exon,6806513,6806553,.,+,.,Parent=XM_001475631.1\\nchr17,RefSeq,exon,6808204,6808245,.,+,.,Parent=XM_001475631.1\\nchr17,RefSeq,mRNA,6797760,6818159,.,+,.,ID=XM_001475631.1;Parent=NC_000083.5:LOC100040603\\nchr17,RefSeq,CDS,6806527,6806553,.,+,0,Name=CDS:NC_000083.5:LOC100040603;Parent=XM_001475631.1,\\nchr17,RefSeq,protein,6806527,6812289,.,+,.,ID=;Parent=XM_001475631.1\\nchr17,RefSeq,exon,6812219,6818159,.,+,.,Parent=XM_001475631.1\\nchr17,RefSeq,exon,6811330,6811453,.,+,.,Parent=XM_001475631.1\\nchr17,RefSeq,exon,6811330,6811453,.,+,.,Parent=XM_001475631.1\\nchr17,RefSeq,CDS,6808204,6808245,.,+,0,Name=CDS:NC_000083.5:LOC100040603;Parent=XM_001475631.1,\\nchr17,RefSeq,exon,6806513,6806553,.,+,.,Parent=XM_001475631.1\\nchr17,RefSeq,CDS,6811330,6811453,.,+,0,Name=CDS:NC_000083.5:LOC100040603;Parent=XM_001475631.1,\\nchr17,RefSeq,mRNA,6797760,6818159,.,+,.,ID=XM_001475631.1;Parent=NC_000083.5:LOC100040603\\nchr17,RefSeq,three_prime_UTR,6812290,6818159,.,+,.,Parent=XM_001475631.1\\nchr17,RefSeq,CDS,6811330,6811453,.,+,0,Name=CDS:NC_000083.5:LOC100040603;Parent=XM_001475631.1,\\nchr17,RefSeq,CDS,6811792,6811869,.,+,2,Name=CDS:NC_000083.5:LOC100040603;Parent=XM_001475631.1,\\nchr17,RefSeq,three_prime_UTR,6812290,6818159,.,+,.,Parent=XM_001475631.1\\nchr17,RefSeq,five_prime_UTR,6797760,6797769,.,+,.,Parent=XM_001475631.1\\nchr17,RefSeq,CDS,6811792,6811869,.,+,2,Name=CDS:NC_000083.5:LOC100040603;Parent=XM_001475631.1,\\nchr17,RefSeq,exon,6797760,6797769,.,+,.,Parent=XM_001475631.1\\nchr17,RefSeq,three_prime_UTR,6812290,6818159,.,+,.,Parent=XM_001475631.1\\nchr17,RefSeq,CDS,6808204,6808245,.,+,0,Name=CDS:NC_000083.5:LOC100040603;Parent=XM_001475631.1,\\nchr17,RefSeq,exon,6808204,6808245,.,+,.,Parent=XM_001475631.1\\nchr17,RefSeq,exon,6811330,6811453,.,+,.,Parent=XM_001475631.1\\nchr17,RefSeq,five_prime_UTR,6806513,6806526,.,+,.,Parent=XM_001475631.1\\nchr17,RefSeq,exon,6806513,6806553,.,+,.,Parent=XM_001475631.1\\nchr17,RefSeq,exon,6797760,6797769,.,+,.,Parent=XM_001475631.1\\nchr17,RefSeq,three_prime_UTR,6812290,6818159,.,+,.,Parent=XM_001475631.1\\nchr17,RefSeq,exon,6806513,6806553,.,+,.,Parent=XM_001475631.1\\nchr17,RefSeq,five_prime_UTR,6806513,6806526,.,+,.,Parent=XM_001475631.1\\nchr17,RefSeq,exon,6808204,6808245,.,+,.,Parent=XM_001475631.1\\nchr17,RefSeq,exon,6811330,6811453,.,+,.,Parent=XM_001475631.1\\nchr17,RefSeq,mRNA,6797760,6818159,.,+,.,ID=XM_001475631.1;Parent=NC_000083.5:LOC100040603\\nchr17,RefSeq,exon,6811330,6811453,.,+,.,Parent=XM_001475631.1\\nchr17,RefSeq,exon,6806513,6806553,.,+,.,Parent=XM_001475631.1\\nchr17,RefSeq,three_prime_UTR,6812290,6818159,.,+,.,Parent=XM_001475631.1\\nchr17,RefSeq,exon,6806513,6806553,.,+,.,Parent=XM_001475631.1\\nchr17,RefSeq,exon,6811792,6811869,.,+,.,Parent=XM_001475631.1\\nchr17,RefSeq,three_prime_UTR,6812290,6818159,.,+,.,Parent=XM_001475631.1\\nchr17,RefSeq,exon,6797760,6797769,.,+,.,Parent=XM_001475631.1\\nchr17,RefSeq,exon,6812219,6818159,.,+,.,Parent=XM_001475631.1\\nchr17,RefSeq,CDS,6806527,6806553,.,+,0,Name=CDS:NC_000083.5:LOC100040603;Parent=XM_001475631.1,\\nchr17,RefSeq,three_prime_UTR,6812290,6818159,.,+,.,Parent=XM_001475631.1\\nchr17,RefSeq,three_prime_UTR,6812290,6818159,.,+,.,Parent=XM_001475631.1\\nchr17,RefSeq,exon,6797760,6797769,.,+,.,Parent=XM_001475631.1\\nchr17,RefSeq,exon,6797760,6797769,.,+,.,Parent=XM_001475631.1\\nchr17,RefSeq,exon,6811792,6811869,.,+,.,Parent=XM_001475631.1\\nchr17,RefSeq,exon,6812219,6818159,.,+,.,Parent=XM_001475631.1\\nchr17,RefSeq,five_prime_UTR,6806513,6806526,.,+,.,Parent=XM_001475631.1\\nchr17,RefSeq,exon,6812219,6818159,.,+,.,Parent=XM_001475631.1\\nchr17,RefSeq,protein,6806527,6812289,.,+,.,ID=;Parent=XM_001475631.1\\nchr17,RefSeq,CDS,6806527,6806553,.,+,0,Name=CDS:NC_000083.5:LOC100040603;Parent=XM_001475631.1,\\nchr17,RefSeq,exon,6811792,6811869,.,+,.,Parent=XM_001475631.1\\nchr17,RefSeq,exon,6806513,6806553,.,+,.,Parent=XM_001475631.1\\n'"
      ]
     },
     "execution_count": 14,
     "metadata": {},
     "output_type": "execute_result"
    }
   ],
   "source": [
    "df = df.replace('\\t', ',')\n",
    "df"
   ]
  },
  {
   "cell_type": "code",
   "execution_count": 23,
   "metadata": {},
   "outputs": [
    {
     "data": {
      "text/plain": [
       "['XM_001475631.1',\n",
       " 'XM_001475631.1',\n",
       " 'XM_001475631.1',\n",
       " 'XM_001475631.1',\n",
       " 'XM_001475631.1',\n",
       " 'XM_001475631.1',\n",
       " 'XM_001475631.1',\n",
       " 'XM_001475631.1',\n",
       " 'XM_001475631.1',\n",
       " 'XM_001475631.1',\n",
       " 'XM_001475631.1',\n",
       " 'XM_001475631.1',\n",
       " 'XM_001475631.1',\n",
       " 'XM_001475631.1',\n",
       " 'XM_001475631.1',\n",
       " 'XM_001475631.1',\n",
       " 'XM_001475631.1',\n",
       " 'XM_001475631.1',\n",
       " 'XM_001475631.1',\n",
       " 'XM_001475631.1',\n",
       " 'XM_001475631.1',\n",
       " 'XM_001475631.1',\n",
       " 'XM_001475631.1',\n",
       " 'XM_001475631.1',\n",
       " 'XM_001475631.1',\n",
       " 'XM_001475631.1',\n",
       " 'XM_001475631.1',\n",
       " 'XM_001475631.1',\n",
       " 'XM_001475631.1',\n",
       " 'XM_001475631.1',\n",
       " 'XM_001475631.1',\n",
       " 'XM_001475631.1',\n",
       " 'XM_001475631.1',\n",
       " 'XM_001475631.1',\n",
       " 'XM_001475631.1',\n",
       " 'XM_001475631.1',\n",
       " 'XM_001475631.1',\n",
       " 'XM_001475631.1',\n",
       " 'XM_001475631.1',\n",
       " 'XM_001475631.1',\n",
       " 'XM_001475631.1',\n",
       " 'XM_001475631.1',\n",
       " 'XM_001475631.1',\n",
       " 'XM_001475631.1',\n",
       " 'XM_001475631.1',\n",
       " 'XM_001475631.1',\n",
       " 'XM_001475631.1',\n",
       " 'XM_001475631.1',\n",
       " 'XM_001475631.1',\n",
       " 'XM_001475631.1',\n",
       " 'XM_001475631.1',\n",
       " 'XM_001475631.1',\n",
       " 'XM_001475631.1',\n",
       " 'XM_001475631.1',\n",
       " 'XM_001475631.1',\n",
       " 'XM_001475631.1',\n",
       " 'XM_001475631.1',\n",
       " 'XM_001475631.1',\n",
       " 'XM_001475631.1',\n",
       " 'XM_001475631.1',\n",
       " 'XM_001475631.1',\n",
       " 'XM_001475631.1',\n",
       " 'XM_001475631.1',\n",
       " 'XM_001475631.1',\n",
       " 'XM_001475631.1',\n",
       " 'XM_001475631.1',\n",
       " 'XM_001475631.1',\n",
       " 'XM_001475631.1',\n",
       " 'XM_001475631.1',\n",
       " 'XM_001475631.1',\n",
       " 'XM_001475631.1',\n",
       " 'XM_001475631.1',\n",
       " 'XM_001475631.1',\n",
       " 'XM_001475631.1',\n",
       " 'XM_001475631.1',\n",
       " 'XM_001475631.1',\n",
       " 'XM_001475631.1',\n",
       " 'XM_001475631.1',\n",
       " 'XM_001475631.1',\n",
       " 'XM_001475631.1',\n",
       " 'XM_001475631.1',\n",
       " 'XM_001475631.1',\n",
       " 'XM_001475631.1',\n",
       " 'XM_001475631.1',\n",
       " 'XM_001475631.1',\n",
       " 'XM_001475631.1',\n",
       " 'XM_001475631.1',\n",
       " 'XM_001475631.1',\n",
       " 'XM_001475631.1',\n",
       " 'XM_001475631.1',\n",
       " 'XM_001475631.1',\n",
       " 'XM_001475631.1',\n",
       " 'XM_001475631.1',\n",
       " 'XM_001475631.1',\n",
       " 'XM_001475631.1',\n",
       " 'XM_001475631.1',\n",
       " 'XM_001475631.1',\n",
       " 'XM_001475631.1',\n",
       " 'XM_001475631.1',\n",
       " 'XM_001475631.1',\n",
       " 'XM_001475631.1',\n",
       " 'XM_001475631.1',\n",
       " 'XM_001475631.1',\n",
       " 'XM_001475631.1',\n",
       " 'XM_001475631.1',\n",
       " 'XM_001475631.1',\n",
       " 'XM_001475631.1',\n",
       " 'XM_001475631.1',\n",
       " 'XM_001475631.1',\n",
       " 'XM_001475631.1',\n",
       " 'XM_001475631.1',\n",
       " 'XM_001475631.1',\n",
       " 'XM_001475631.1',\n",
       " 'XM_001475631.1',\n",
       " 'XM_001475631.1',\n",
       " 'XM_001475631.1',\n",
       " 'XM_001475631.1',\n",
       " 'XM_001475631.1',\n",
       " 'XM_001475631.1',\n",
       " 'XM_001475631.1',\n",
       " 'XM_001475631.1',\n",
       " 'XM_001475631.1',\n",
       " 'XM_001475631.1',\n",
       " 'XM_001475631.1',\n",
       " 'XM_001475631.1',\n",
       " 'XM_001475631.1',\n",
       " 'XM_001475631.1',\n",
       " 'XM_001475631.1',\n",
       " 'XM_001475631.1',\n",
       " 'XM_001475631.1',\n",
       " 'XM_001475631.1',\n",
       " 'XM_001475631.1',\n",
       " 'XM_001475631.1',\n",
       " 'XM_001475631.1',\n",
       " 'XM_001475631.1',\n",
       " 'XM_001475631.1',\n",
       " 'XM_001475631.1',\n",
       " 'XM_001475631.1',\n",
       " 'XM_001475631.1',\n",
       " 'XM_001475631.1',\n",
       " 'XM_001475631.1',\n",
       " 'XM_001475631.1',\n",
       " 'XM_001475631.1',\n",
       " 'XM_001475631.1',\n",
       " 'XM_001475631.1',\n",
       " 'XM_001475631.1',\n",
       " 'XM_001475631.1',\n",
       " 'XM_001475631.1',\n",
       " 'XM_001475631.1',\n",
       " 'XM_001475631.1',\n",
       " 'XM_001475631.1',\n",
       " 'XM_001475631.1',\n",
       " 'XM_001475631.1',\n",
       " 'XM_001475631.1',\n",
       " 'XM_001475631.1',\n",
       " 'XM_001475631.1',\n",
       " 'XM_001475631.1',\n",
       " 'XM_001475631.1',\n",
       " 'XM_001475631.1',\n",
       " 'XM_001475631.1',\n",
       " 'XM_001475631.1',\n",
       " 'XM_001475631.1',\n",
       " 'XM_001475631.1',\n",
       " 'XM_001475631.1',\n",
       " 'XM_001475631.1',\n",
       " 'XM_001475631.1',\n",
       " 'XM_001475631.1',\n",
       " 'XM_001475631.1',\n",
       " 'XM_001475631.1',\n",
       " 'XM_001475631.1',\n",
       " 'XM_001475631.1',\n",
       " 'XM_001475631.1',\n",
       " 'XM_001475631.1',\n",
       " 'XM_001475631.1',\n",
       " 'XM_001475631.1',\n",
       " 'XM_001475631.1',\n",
       " 'XM_001475631.1',\n",
       " 'XM_001475631.1',\n",
       " 'XM_001475631.1',\n",
       " 'XM_001475631.1',\n",
       " 'XM_001475631.1',\n",
       " 'XM_001475631.1',\n",
       " 'XM_001475631.1',\n",
       " 'XM_001475631.1',\n",
       " 'XM_001475631.1',\n",
       " 'XM_001475631.1',\n",
       " 'XM_001475631.1',\n",
       " 'XM_001475631.1',\n",
       " 'XM_001475631.1',\n",
       " 'XM_001475631.1',\n",
       " 'XM_001475631.1',\n",
       " 'XM_001475631.1',\n",
       " 'XM_001475631.1',\n",
       " 'XM_001475631.1',\n",
       " 'XM_001475631.1',\n",
       " 'XM_001475631.1',\n",
       " 'XM_001475631.1',\n",
       " 'XM_001475631.1',\n",
       " 'XM_001475631.1',\n",
       " 'XM_001475631.1',\n",
       " 'XM_001475631.1',\n",
       " 'XM_001475631.1',\n",
       " 'XM_001475631.1',\n",
       " 'XM_001475631.1',\n",
       " 'XM_001475631.1',\n",
       " 'XM_001475631.1',\n",
       " 'XM_001475631.1',\n",
       " 'XM_001475631.1',\n",
       " 'XM_001475631.1',\n",
       " 'XM_001475631.1',\n",
       " 'XM_001475631.1',\n",
       " 'XM_001475631.1',\n",
       " 'XM_001475631.1',\n",
       " 'XM_001475631.1',\n",
       " 'XM_001475631.1',\n",
       " 'XM_001475631.1',\n",
       " 'XM_001475631.1',\n",
       " 'XM_001475631.1',\n",
       " 'XM_001475631.1',\n",
       " 'XM_001475631.1',\n",
       " 'XM_001475631.1',\n",
       " 'XM_001475631.1',\n",
       " 'XM_001475631.1',\n",
       " 'XM_001475631.1',\n",
       " 'XM_001475631.1',\n",
       " 'XM_001475631.1',\n",
       " 'XM_001475631.1',\n",
       " 'XM_001475631.1',\n",
       " 'XM_001475631.1',\n",
       " 'XM_001475631.1',\n",
       " 'XM_001475631.1',\n",
       " 'XM_001475631.1',\n",
       " 'XM_001475631.1',\n",
       " 'XM_001475631.1',\n",
       " 'XM_001475631.1',\n",
       " 'XM_001475631.1',\n",
       " 'XM_001475631.1',\n",
       " 'XM_001475631.1',\n",
       " 'XM_001475631.1',\n",
       " 'XM_001475631.1',\n",
       " 'XM_001475631.1',\n",
       " 'XM_001475631.1',\n",
       " 'XM_001475631.1',\n",
       " 'XM_001475631.1',\n",
       " 'XM_001475631.1',\n",
       " 'XM_001475631.1',\n",
       " 'XM_001475631.1',\n",
       " 'XM_001475631.1',\n",
       " 'XM_001475631.1',\n",
       " 'XM_001475631.1',\n",
       " 'XM_001475631.1',\n",
       " 'XM_001475631.1',\n",
       " 'XM_001475631.1',\n",
       " 'XM_001475631.1',\n",
       " 'XM_001475631.1',\n",
       " 'XM_001475631.1',\n",
       " 'XM_001475631.1',\n",
       " 'XM_001475631.1',\n",
       " 'XM_001475631.1',\n",
       " 'XM_001475631.1',\n",
       " 'XM_001475631.1',\n",
       " 'XM_001475631.1',\n",
       " 'XM_001475631.1',\n",
       " 'XM_001475631.1',\n",
       " 'XM_001475631.1',\n",
       " 'XM_001475631.1',\n",
       " 'XM_001475631.1',\n",
       " 'XM_001475631.1',\n",
       " 'XM_001475631.1',\n",
       " 'XM_001475631.1',\n",
       " 'XM_001475631.1',\n",
       " 'XM_001475631.1',\n",
       " 'XM_001475631.1',\n",
       " 'XM_001475631.1',\n",
       " 'XM_001475631.1',\n",
       " 'XM_001475631.1',\n",
       " 'XM_001475631.1',\n",
       " 'XM_001475631.1',\n",
       " 'XM_001475631.1',\n",
       " 'XM_001475631.1',\n",
       " 'XM_001475631.1',\n",
       " 'XM_001475631.1',\n",
       " 'XM_001475631.1',\n",
       " 'XM_001475631.1',\n",
       " 'XM_001475631.1',\n",
       " 'XM_001475631.1',\n",
       " 'XM_001475631.1',\n",
       " 'XM_001475631.1',\n",
       " 'XM_001475631.1',\n",
       " 'XM_001475631.1',\n",
       " 'XM_001475631.1',\n",
       " 'XM_001475631.1',\n",
       " 'XM_001475631.1',\n",
       " 'XM_001475631.1',\n",
       " 'XM_001475631.1',\n",
       " 'XM_001475631.1',\n",
       " 'XM_001475631.1',\n",
       " 'XM_001475631.1',\n",
       " 'XM_001475631.1',\n",
       " 'XM_001475631.1',\n",
       " 'XM_001475631.1',\n",
       " 'XM_001475631.1',\n",
       " 'XM_001475631.1',\n",
       " 'XM_001475631.1',\n",
       " 'XM_001475631.1',\n",
       " 'XM_001475631.1',\n",
       " 'XM_001475631.1',\n",
       " 'XM_001475631.1',\n",
       " 'XM_001475631.1']"
      ]
     },
     "execution_count": 23,
     "metadata": {},
     "output_type": "execute_result"
    }
   ],
   "source": [
    "pattern = re.compile('Parent=([\\w.]+)\\\\n')\n",
    "res = pattern.findall(df)\n",
    "res\n",
    "#Parent=XM_001475631.1\\"
   ]
  },
  {
   "cell_type": "code",
   "execution_count": 28,
   "metadata": {},
   "outputs": [
    {
     "data": {
      "text/plain": [
       "201"
      ]
     },
     "execution_count": 28,
     "metadata": {},
     "output_type": "execute_result"
    }
   ],
   "source": [
    "ff = df.count('exon')\n",
    "ff"
   ]
  },
  {
   "cell_type": "code",
   "execution_count": 29,
   "metadata": {},
   "outputs": [
    {
     "data": {
      "text/plain": [
       "340"
      ]
     },
     "execution_count": 29,
     "metadata": {},
     "output_type": "execute_result"
    }
   ],
   "source": [
    "df.count('CDS')"
   ]
  },
  {
   "cell_type": "code",
   "execution_count": 30,
   "metadata": {},
   "outputs": [
    {
     "data": {
      "text/plain": [
       "47"
      ]
     },
     "execution_count": 30,
     "metadata": {},
     "output_type": "execute_result"
    }
   ],
   "source": [
    "df.count('five_prime_UTR')"
   ]
  },
  {
   "cell_type": "code",
   "execution_count": 31,
   "metadata": {},
   "outputs": [
    {
     "data": {
      "text/plain": [
       "33"
      ]
     },
     "execution_count": 31,
     "metadata": {},
     "output_type": "execute_result"
    }
   ],
   "source": [
    "df.count('mRNA')"
   ]
  },
  {
   "cell_type": "code",
   "execution_count": 32,
   "metadata": {},
   "outputs": [
    {
     "data": {
      "text/plain": [
       "29"
      ]
     },
     "execution_count": 32,
     "metadata": {},
     "output_type": "execute_result"
    }
   ],
   "source": [
    "df.count('protein')"
   ]
  },
  {
   "cell_type": "code",
   "execution_count": 33,
   "metadata": {},
   "outputs": [
    {
     "data": {
      "text/plain": [
       "32"
      ]
     },
     "execution_count": 33,
     "metadata": {},
     "output_type": "execute_result"
    }
   ],
   "source": [
    "df.count('three_prime_UTR')"
   ]
  },
  {
   "cell_type": "code",
   "execution_count": null,
   "metadata": {},
   "outputs": [],
   "source": []
  }
 ],
 "metadata": {
  "kernelspec": {
   "display_name": "Python 3",
   "language": "python",
   "name": "python3"
  },
  "language_info": {
   "codemirror_mode": {
    "name": "ipython",
    "version": 3
   },
   "file_extension": ".py",
   "mimetype": "text/x-python",
   "name": "python",
   "nbconvert_exporter": "python",
   "pygments_lexer": "ipython3",
   "version": "3.7.3"
  }
 },
 "nbformat": 4,
 "nbformat_minor": 4
}
